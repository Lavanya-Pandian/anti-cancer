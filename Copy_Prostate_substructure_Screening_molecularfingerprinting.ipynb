{
  "nbformat": 4,
  "nbformat_minor": 0,
  "metadata": {
    "colab": {
      "name": "Copy_Prostate_substructure_Screening_molecularfingerprinting.ipynb",
      "provenance": [],
      "collapsed_sections": []
    },
    "kernelspec": {
      "display_name": "Python 3",
      "language": "python",
      "name": "python3"
    },
    "language_info": {
      "codemirror_mode": {
        "name": "ipython",
        "version": 3
      },
      "file_extension": ".py",
      "mimetype": "text/x-python",
      "name": "python",
      "nbconvert_exporter": "python",
      "pygments_lexer": "ipython3",
      "version": "3.7.3"
    }
  },
  "cells": [
    {
      "cell_type": "markdown",
      "metadata": {
        "id": "n2-4gR3_1iQD"
      },
      "source": [
        "prostate cancer substructure screeening\n"
      ]
    },
    {
      "cell_type": "code",
      "metadata": {
        "colab": {
          "base_uri": "https://localhost:8080/"
        },
        "id": "9DjZyB5U3OAY",
        "outputId": "91a4359e-6dd9-4641-956d-9d746deafe90"
      },
      "source": [
        "!pip install -q condacolab\n",
        "\n",
        "import condacolab\n",
        "condacolab.install()\n",
        "\n",
        "!mamba install -q -c conda-forge rdkit"
      ],
      "execution_count": null,
      "outputs": [
        {
          "output_type": "stream",
          "text": [
            "⏬ Downloading https://github.com/jaimergp/miniforge/releases/latest/download/Mambaforge-colab-Linux-x86_64.sh...\n",
            "📦 Installing...\n",
            "📌 Adjusting configuration...\n",
            "🩹 Patching environment...\n",
            "⏲ Done in 0:00:43\n",
            "🔁 Restarting kernel...\n",
            "  Package               Version  Build                Channel                    Size\n",
            "───────────────────────────────────────────────────────────────────────────────────────\n",
            "  Install:\n",
            "───────────────────────────────────────────────────────────────────────────────────────\n",
            "\n",
            "\u001b[32m  boost             \u001b[00m     1.74.0  py37h6dcda5c_3       conda-forge/linux-64     342 KB\n",
            "\u001b[32m  boost-cpp         \u001b[00m     1.74.0  hc6e9bd1_3           conda-forge/linux-64      16 MB\n",
            "\u001b[32m  cairo             \u001b[00m     1.16.0  h6cf1ce9_1008        conda-forge/linux-64       1 MB\n",
            "\u001b[32m  cycler            \u001b[00m     0.10.0  py_2                 conda-forge/noarch         9 KB\n",
            "\u001b[32m  fontconfig        \u001b[00m     2.13.1  hba837de_1005        conda-forge/linux-64     357 KB\n",
            "\u001b[32m  freetype          \u001b[00m     2.10.4  h0708190_1           conda-forge/linux-64     890 KB\n",
            "\u001b[32m  gettext           \u001b[00m     0.21.0  hf68c758_0           pkgs/main/linux-64         3 MB\n",
            "\u001b[32m  giflib            \u001b[00m      5.2.1  h516909a_2           conda-forge/linux-64      80 KB\n",
            "\u001b[32m  greenlet          \u001b[00m      1.1.0  py37hcd2ae1e_0       conda-forge/linux-64      83 KB\n",
            "\u001b[32m  importlib-metadata\u001b[00m      4.6.1  py37h89c1867_0       conda-forge/linux-64      31 KB\n",
            "\u001b[32m  jpeg              \u001b[00m         9d  h516909a_0           conda-forge/linux-64     266 KB\n",
            "\u001b[32m  kiwisolver        \u001b[00m      1.3.1  py37h2527ec5_1       conda-forge/linux-64      78 KB\n",
            "\u001b[32m  lcms2             \u001b[00m       2.12  hddcbb42_0           conda-forge/linux-64     443 KB\n",
            "\u001b[32m  libblas           \u001b[00m      3.9.0  9_openblas           conda-forge/linux-64      11 KB\n",
            "\u001b[32m  libcblas          \u001b[00m      3.9.0  9_openblas           conda-forge/linux-64      11 KB\n",
            "\u001b[32m  libgfortran-ng    \u001b[00m      9.3.0  hff62375_19          conda-forge/linux-64      22 KB\n",
            "\u001b[32m  libgfortran5      \u001b[00m      9.3.0  hff62375_19          conda-forge/linux-64       2 MB\n",
            "\u001b[32m  libglib           \u001b[00m     2.68.3  h3e27bee_0           conda-forge/linux-64       3 MB\n",
            "\u001b[32m  liblapack         \u001b[00m      3.9.0  9_openblas           conda-forge/linux-64      11 KB\n",
            "\u001b[32m  libopenblas       \u001b[00m     0.3.15  pthreads_h8fe5266_1  conda-forge/linux-64       9 MB\n",
            "\u001b[32m  libpng            \u001b[00m     1.6.37  hed695b0_2           conda-forge/linux-64     359 KB\n",
            "\u001b[32m  libtiff           \u001b[00m      4.2.0  hbd63e13_2           conda-forge/linux-64     639 KB\n",
            "\u001b[32m  libuuid           \u001b[00m     2.32.1  h14c3975_1000        conda-forge/linux-64      26 KB\n",
            "\u001b[32m  libwebp           \u001b[00m      1.2.0  h3452ae3_0           conda-forge/linux-64      85 KB\n",
            "\u001b[32m  libwebp-base      \u001b[00m      1.2.0  h7f98852_2           conda-forge/linux-64     815 KB\n",
            "\u001b[32m  libxcb            \u001b[00m       1.14  h7b6447c_0           pkgs/main/linux-64       505 KB\n",
            "\u001b[32m  matplotlib-base   \u001b[00m      3.4.2  py37hdd32ed1_0       conda-forge/linux-64       7 MB\n",
            "\u001b[32m  numpy             \u001b[00m     1.21.0  py37h038b26d_0       conda-forge/linux-64       6 MB\n",
            "\u001b[32m  olefile           \u001b[00m       0.46  pyh9f0ad1d_1         conda-forge/noarch        32 KB\n",
            "\u001b[32m  pandas            \u001b[00m      1.3.0  py37h219a48f_0       conda-forge/linux-64      13 MB\n",
            "\u001b[32m  pcre              \u001b[00m       8.45  h9c3ff4c_0           conda-forge/linux-64     253 KB\n",
            "\u001b[32m  pillow            \u001b[00m      8.3.1  py37h5aabda8_0       pkgs/main/linux-64       633 KB\n",
            "\u001b[32m  pixman            \u001b[00m     0.40.0  h36c2ea0_0           conda-forge/linux-64     627 KB\n",
            "\u001b[32m  pycairo           \u001b[00m     1.20.1  py37hfff247e_0       conda-forge/linux-64      77 KB\n",
            "\u001b[32m  pyparsing         \u001b[00m      2.4.7  pyh9f0ad1d_0         conda-forge/noarch        60 KB\n",
            "\u001b[32m  python-dateutil   \u001b[00m      2.8.1  py_0                 conda-forge/noarch       220 KB\n",
            "\u001b[32m  pytz              \u001b[00m     2021.1  pyhd8ed1ab_0         conda-forge/noarch       239 KB\n",
            "\u001b[32m  rdkit             \u001b[00m  2021.03.3  py37haf5a968_0       conda-forge/linux-64      38 MB\n",
            "\u001b[32m  reportlab         \u001b[00m     3.5.68  py37h69800bb_0       conda-forge/linux-64       2 MB\n",
            "\u001b[32m  sqlalchemy        \u001b[00m     1.4.20  py37h5e8e339_0       conda-forge/linux-64       2 MB\n",
            "\u001b[32m  tornado           \u001b[00m        6.1  py37h5e8e339_1       conda-forge/linux-64     646 KB\n",
            "\u001b[32m  typing_extensions \u001b[00m   3.10.0.0  pyha770c72_0         conda-forge/noarch        28 KB\n",
            "\u001b[32m  xorg-kbproto      \u001b[00m      1.0.7  h14c3975_1002        conda-forge/linux-64      26 KB\n",
            "\u001b[32m  xorg-libice       \u001b[00m     1.0.10  h516909a_0           conda-forge/linux-64      57 KB\n",
            "\u001b[32m  xorg-libsm        \u001b[00m      1.2.3  hd9c2040_1000        conda-forge/linux-64      26 KB\n",
            "\u001b[32m  xorg-libx11       \u001b[00m      1.7.2  h7f98852_0           conda-forge/linux-64     941 KB\n",
            "\u001b[32m  xorg-libxext      \u001b[00m      1.3.4  h7f98852_1           conda-forge/linux-64      54 KB\n",
            "\u001b[32m  xorg-libxrender   \u001b[00m     0.9.10  h7f98852_1003        conda-forge/linux-64      32 KB\n",
            "\u001b[32m  xorg-renderproto  \u001b[00m     0.11.1  h14c3975_1002        conda-forge/linux-64       8 KB\n",
            "\u001b[32m  xorg-xextproto    \u001b[00m      7.3.0  h14c3975_1002        conda-forge/linux-64      27 KB\n",
            "\u001b[32m  xorg-xproto       \u001b[00m     7.0.31  h14c3975_1007        conda-forge/linux-64      72 KB\n",
            "\u001b[32m  zipp              \u001b[00m      3.5.0  pyhd8ed1ab_0         conda-forge/noarch        12 KB\n",
            "\n",
            "  Upgrade:\n",
            "───────────────────────────────────────────────────────────────────────────────────────\n",
            "\n",
            "\u001b[31m  ca-certificates   \u001b[00m  2020.12.5  ha878542_0           installed                      \n",
            "\u001b[32m  ca-certificates   \u001b[00m   2021.7.5  h06a4308_1           pkgs/main/linux-64       113 KB\n",
            "\u001b[31m  certifi           \u001b[00m  2020.12.5  py37h89c1867_1       installed                      \n",
            "\u001b[32m  certifi           \u001b[00m  2021.5.30  py37h89c1867_0       conda-forge/linux-64     141 KB\n",
            "\u001b[31m  openssl           \u001b[00m     1.1.1j  h7f98852_0           installed                      \n",
            "\u001b[32m  openssl           \u001b[00m     1.1.1k  h7f98852_0           conda-forge/linux-64       2 MB\n",
            "\n",
            "  Summary:\n",
            "\n",
            "  Install: 52 packages\n",
            "  Upgrade: 3 packages\n",
            "\n",
            "  Total download: 115 MB\n",
            "\n",
            "───────────────────────────────────────────────────────────────────────────────────────\n",
            "\n",
            "Preparing transaction: ...working... done\n",
            "Verifying transaction: ...working... done\n",
            "Executing transaction: ...working... done\n"
          ],
          "name": "stdout"
        }
      ]
    },
    {
      "cell_type": "code",
      "metadata": {
        "id": "3i7lrsZ40sTi"
      },
      "source": [
        "# Import required modules\n",
        "import numpy as np\n",
        "import pandas as pd\n",
        "import os\n",
        "import rdkit as rd\n",
        "from rdkit.Chem.Fingerprints import FingerprintMols\n",
        "from rdkit import RDConfig\n",
        "from rdkit.Chem import PandasTools\n",
        "from rdkit import Chem\n",
        "from rdkit.Chem.Draw import IPythonConsole\n",
        "from rdkit.Chem import rdFingerprintGenerator\n",
        "from rdkit import DataStructs\n",
        "from rdkit.Chem import AllChem as Chem\n",
        "from rdkit.Chem.rdMolDescriptors import GetAtomPairFingerprint\n",
        "from rdkit.Chem.AtomPairs import Torsions\n",
        "from collections import Counter"
      ],
      "execution_count": null,
      "outputs": []
    },
    {
      "cell_type": "code",
      "metadata": {
        "colab": {
          "base_uri": "https://localhost:8080/"
        },
        "id": "V3HFqleH0sTk",
        "scrolled": true,
        "outputId": "b4f81df9-b232-4672-fff1-6a30580ab070"
      },
      "source": [
        "\n",
        "import sklearn as sk\n",
        "from sklearn import metrics\n",
        "from sklearn.model_selection import cross_val_score\n",
        "from sklearn.model_selection import train_test_split\n",
        "from sklearn.model_selection import validation_curve\n",
        "from sklearn.linear_model import LogisticRegression\n",
        "from sklearn.linear_model import LogisticRegressionCV\n",
        "from imblearn.over_sampling import ADASYN\n",
        "from sklearn.metrics import classification_report\n",
        "from sklearn.neighbors import KNeighborsClassifier\n",
        "from sklearn.model_selection import GridSearchCV\n",
        "from sklearn.ensemble import GradientBoostingClassifier"
      ],
      "execution_count": null,
      "outputs": [
        {
          "output_type": "stream",
          "text": [
            "/usr/local/lib/python3.7/dist-packages/sklearn/externals/six.py:31: FutureWarning: The module is deprecated in version 0.21 and will be removed in version 0.23 since we've dropped support for Python 2.7. Please rely on the official version of six (https://pypi.org/project/six/).\n",
            "  \"(https://pypi.org/project/six/).\", FutureWarning)\n",
            "/usr/local/lib/python3.7/dist-packages/sklearn/utils/deprecation.py:144: FutureWarning: The sklearn.neighbors.base module is  deprecated in version 0.22 and will be removed in version 0.24. The corresponding classes / functions should instead be imported from sklearn.neighbors. Anything that cannot be imported from sklearn.neighbors is now part of the private API.\n",
            "  warnings.warn(message, FutureWarning)\n"
          ],
          "name": "stderr"
        }
      ]
    },
    {
      "cell_type": "code",
      "metadata": {
        "colab": {
          "resources": {
            "http://localhost:8080/nbextensions/google.colab/files.js": {
              "data": "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",
              "headers": [
                [
                  "content-type",
                  "application/javascript"
                ]
              ],
              "ok": true,
              "status": 200,
              "status_text": ""
            }
          },
          "base_uri": "https://localhost:8080/",
          "height": 73
        },
        "id": "ChEQr1AI0sTm",
        "outputId": "19f9927c-0965-487f-8681-795925c1bca5"
      },
      "source": [
        "import matplotlib.pyplot as plt\n",
        "import seaborn as sns\n",
        "from google.colab import files\n",
        "uploaded = files.upload()"
      ],
      "execution_count": null,
      "outputs": [
        {
          "output_type": "display_data",
          "data": {
            "text/html": [
              "\n",
              "     <input type=\"file\" id=\"files-7f42729a-0f35-4e48-9bdc-207608850349\" name=\"files[]\" multiple disabled\n",
              "        style=\"border:none\" />\n",
              "     <output id=\"result-7f42729a-0f35-4e48-9bdc-207608850349\">\n",
              "      Upload widget is only available when the cell has been executed in the\n",
              "      current browser session. Please rerun this cell to enable.\n",
              "      </output>\n",
              "      <script src=\"/nbextensions/google.colab/files.js\"></script> "
            ],
            "text/plain": [
              "<IPython.core.display.HTML object>"
            ]
          },
          "metadata": {
            "tags": []
          }
        },
        {
          "output_type": "stream",
          "text": [
            "Saving Prostate_cancer_substr_screening.csv to Prostate_cancer_substr_screening.csv\n"
          ],
          "name": "stdout"
        }
      ]
    },
    {
      "cell_type": "code",
      "metadata": {
        "id": "84X4fwx90sTn",
        "scrolled": false
      },
      "source": [
        "prostate_small_molecules= pd.read_csv(\"Prostate_cancer_substr_screening.csv\")\n"
      ],
      "execution_count": null,
      "outputs": []
    },
    {
      "cell_type": "code",
      "metadata": {
        "colab": {
          "base_uri": "https://localhost:8080/",
          "height": 110
        },
        "id": "0rwGFMRQOUOY",
        "outputId": "28c59e6f-feec-4a6b-826c-a0dc966251f2"
      },
      "source": [
        "prostate_small_molecules.head(2)"
      ],
      "execution_count": null,
      "outputs": [
        {
          "output_type": "execute_result",
          "data": {
            "text/html": [
              "<div>\n",
              "<style scoped>\n",
              "    .dataframe tbody tr th:only-of-type {\n",
              "        vertical-align: middle;\n",
              "    }\n",
              "\n",
              "    .dataframe tbody tr th {\n",
              "        vertical-align: top;\n",
              "    }\n",
              "\n",
              "    .dataframe thead th {\n",
              "        text-align: right;\n",
              "    }\n",
              "</style>\n",
              "<table border=\"1\" class=\"dataframe\">\n",
              "  <thead>\n",
              "    <tr style=\"text-align: right;\">\n",
              "      <th></th>\n",
              "      <th>smiles</th>\n",
              "      <th>activity</th>\n",
              "    </tr>\n",
              "  </thead>\n",
              "  <tbody>\n",
              "    <tr>\n",
              "      <th>0</th>\n",
              "      <td>CO[C@H]1C[C@@H]2CC[C@@H](C)[C@@](O)(O2)C(=O)C(...</td>\n",
              "      <td>0</td>\n",
              "    </tr>\n",
              "    <tr>\n",
              "      <th>1</th>\n",
              "      <td>CC[C@H]1OC(=O)[C@H](C)[C@@H](O[C@H]2C[C@@](C)(...</td>\n",
              "      <td>0</td>\n",
              "    </tr>\n",
              "  </tbody>\n",
              "</table>\n",
              "</div>"
            ],
            "text/plain": [
              "                                              smiles  activity\n",
              "0  CO[C@H]1C[C@@H]2CC[C@@H](C)[C@@](O)(O2)C(=O)C(...         0\n",
              "1  CC[C@H]1OC(=O)[C@H](C)[C@@H](O[C@H]2C[C@@](C)(...         0"
            ]
          },
          "metadata": {
            "tags": []
          },
          "execution_count": 5
        }
      ]
    },
    {
      "cell_type": "code",
      "metadata": {
        "id": "bSEKI3Di0sTp"
      },
      "source": [
        "#Convert smiles to mol \n",
        "prostate_small_molecules[\"mol\"] = [Chem.MolFromSmiles(x) for x in prostate_small_molecules[\"smiles\"]]\n",
        "\n"
      ],
      "execution_count": null,
      "outputs": []
    },
    {
      "cell_type": "markdown",
      "metadata": {
        "id": "_toEF-um96Lk"
      },
      "source": [
        "MORGAN FINGERPRINT"
      ]
    },
    {
      "cell_type": "code",
      "metadata": {
        "id": "K0koVPEI8WSl"
      },
      "source": [
        "prostate_small_molecules[\"morgan_fingerprint\"] = [Chem.GetMorganFingerprintAsBitVect(m,2,nBits=2048) for m in prostate_small_molecules['mol']]\n",
        "morgan_fingerprint = [Chem.GetMorganFingerprintAsBitVect(m,2,nBits=2048) for m in prostate_small_molecules['mol']]\n",
        "morgan_fingerprint_np = []\n",
        "for fp in morgan_fingerprint:\n",
        "  arr=np.zeros((1,))\n",
        "  DataStructs.ConvertToNumpyArray(fp,arr)\n",
        "  morgan_fingerprint_np.append(arr)"
      ],
      "execution_count": null,
      "outputs": []
    },
    {
      "cell_type": "markdown",
      "metadata": {
        "id": "GAS583jh99AZ"
      },
      "source": [
        "# DAYLIGHT FINGERPRINT"
      ]
    },
    {
      "cell_type": "code",
      "metadata": {
        "id": "lLxy0FDg0sTt"
      },
      "source": [
        "prostate_small_molecules[\"rdkit_fingerprint\"] = [Chem.RDKFingerprint(m) for m in prostate_small_molecules[\"mol\"]]\n",
        "rdkit_fingerprint = [Chem.RDKFingerprint(m) for m in prostate_small_molecules[\"mol\"]]\n",
        "rdkit_fingerprint_np = []\n",
        "for fp in rdkit_fingerprint:\n",
        "  arr = np.zeros((1,))\n",
        "  DataStructs.ConvertToNumpyArray(fp, arr)\n",
        "  rdkit_fingerprint_np.append(arr)"
      ],
      "execution_count": null,
      "outputs": []
    },
    {
      "cell_type": "markdown",
      "metadata": {
        "id": "GlP-nbENsda8"
      },
      "source": [
        "ATOM-PAIR FINGERPRINT"
      ]
    },
    {
      "cell_type": "code",
      "metadata": {
        "id": "16m47BZO0sTv"
      },
      "source": [
        "prostate_small_molecules[\"AtomPair_Fingerprint\"] = [Chem.GetHashedAtomPairFingerprintAsBitVect(m) for m in prostate_small_molecules[\"mol\"]]\n",
        "AtomPair_Fingerprint = [Chem.GetHashedAtomPairFingerprintAsBitVect(m) for m in prostate_small_molecules[\"mol\"]]\n",
        "AtomPair_Fingerprint_np = []\n",
        "for fp in AtomPair_Fingerprint:\n",
        "  arr = np.zeros((1,))\n",
        "  DataStructs.ConvertToNumpyArray(fp, arr)\n",
        "  AtomPair_Fingerprint_np.append(arr)"
      ],
      "execution_count": null,
      "outputs": []
    },
    {
      "cell_type": "markdown",
      "metadata": {
        "id": "vz62x8nMscwX"
      },
      "source": [
        "TORSION FINGERPRINT"
      ]
    },
    {
      "cell_type": "code",
      "metadata": {
        "id": "wsWfkDsNtFBC"
      },
      "source": [
        "prostate_small_molecules[\"TorsionFingerprint\"] = [Chem.GetHashedTopologicalTorsionFingerprintAsBitVect(m) for m in prostate_small_molecules['mol']]\n",
        "TorsionFingerprint = [Chem.GetHashedTopologicalTorsionFingerprintAsBitVect(m) for m in prostate_small_molecules['mol']]\n",
        "TorsionFingerprint_np = []\n",
        "for fp in TorsionFingerprint:\n",
        "  arr=np.zeros((1,))\n",
        "  DataStructs.ConvertToNumpyArray(fp,arr)\n",
        "  TorsionFingerprint_np.append(arr)"
      ],
      "execution_count": null,
      "outputs": []
    },
    {
      "cell_type": "code",
      "metadata": {
        "id": "5qEjUpmrt7n8"
      },
      "source": [
        "x_morgan = morgan_fingerprint_np\n",
        "x_rdkit = rdkit_fingerprint_np\n",
        "x_torsion = TorsionFingerprint_np\n",
        "x_Atompair = AtomPair_Fingerprint_np\n",
        "y = prostate_small_molecules.activity.values"
      ],
      "execution_count": null,
      "outputs": []
    },
    {
      "cell_type": "code",
      "metadata": {
        "id": "x8EPDK6pjD32"
      },
      "source": [
        "X_morgan_train, X_morgan_test, y_morgan_train, y_morgan_test = train_test_split(x_morgan,y,test_size=0.33, random_state=42)\n",
        "X_rdkit_train, X_rdkit_test, y_rdkit_train, y_rdkit_test = train_test_split(x_rdkit,y,test_size=0.33, random_state=42)\n",
        "X_torsion_train, X_torsion_test, y_torsion_train, y_torsion_test = train_test_split(x_torsion, y, test_size=0.33, random_state = 42)\n",
        "X_Atompair_train, X_Atompair_test, y_Atompair_train, y_Atompair_test = train_test_split(x_Atompair, y, test_size=0.33, random_state = 42)"
      ],
      "execution_count": null,
      "outputs": []
    },
    {
      "cell_type": "code",
      "metadata": {
        "id": "eLm_YoqKnCSH"
      },
      "source": [
        "from sklearn.ensemble import RandomForestClassifier\n",
        "rf = RandomForestClassifier(random_state = 42)\n"
      ],
      "execution_count": null,
      "outputs": []
    },
    {
      "cell_type": "code",
      "metadata": {
        "colab": {
          "base_uri": "https://localhost:8080/"
        },
        "id": "Pda6bcU4nONE",
        "outputId": "559f9f51-7f8c-4b6e-b193-215be1de9d0d"
      },
      "source": [
        "# Default parameters of current Random Forest\n",
        "from pprint import pprint\n",
        "pprint(rf.get_params())"
      ],
      "execution_count": null,
      "outputs": [
        {
          "output_type": "stream",
          "text": [
            "{'bootstrap': True,\n",
            " 'ccp_alpha': 0.0,\n",
            " 'class_weight': None,\n",
            " 'criterion': 'gini',\n",
            " 'max_depth': None,\n",
            " 'max_features': 'auto',\n",
            " 'max_leaf_nodes': None,\n",
            " 'max_samples': None,\n",
            " 'min_impurity_decrease': 0.0,\n",
            " 'min_impurity_split': None,\n",
            " 'min_samples_leaf': 1,\n",
            " 'min_samples_split': 2,\n",
            " 'min_weight_fraction_leaf': 0.0,\n",
            " 'n_estimators': 100,\n",
            " 'n_jobs': None,\n",
            " 'oob_score': False,\n",
            " 'random_state': 42,\n",
            " 'verbose': 0,\n",
            " 'warm_start': False}\n"
          ],
          "name": "stdout"
        }
      ]
    },
    {
      "cell_type": "code",
      "metadata": {
        "id": "XmgFomswntoI"
      },
      "source": [
        "from sklearn.model_selection import RandomizedSearchCV"
      ],
      "execution_count": null,
      "outputs": []
    },
    {
      "cell_type": "markdown",
      "metadata": {
        "id": "KOUvcK-Kmaiu"
      },
      "source": [
        "RANDOM FOREST"
      ]
    },
    {
      "cell_type": "code",
      "metadata": {
        "id": "DsNhZX7-o8bB"
      },
      "source": [
        "# No. of trees in random forest\n",
        "n_estimators = [int(x) for x in np.linspace(start=200, stop=2000, num=10)]\n",
        "\n",
        "# No.of features to be considered at every split\n",
        "max_features = ['auto', 'log2']\n",
        "\n",
        "# Maximum number of levels in tress\n",
        "max_depth = [int(x) for x in np.linspace(start=10, stop=110, num=11)]\n",
        "max_depth.append(None)\n",
        "\n",
        "# Mininum no. of samples required to split the nodes\n",
        "min_sample_split = [2,5,10]\n",
        "\n",
        "# Minimum number of samples required at each leaf node\n",
        "min_sample_leaf = [1,2,4]\n",
        "\n",
        "# Method to select samples for training each tree\n",
        "boostrap = [True, False]"
      ],
      "execution_count": null,
      "outputs": []
    },
    {
      "cell_type": "code",
      "metadata": {
        "id": "APfRP25OsZD2"
      },
      "source": [
        "# Creat the random_grid\n",
        "\n",
        "random_grid ={'n_estimators':n_estimators,\n",
        "              'max_depth':max_depth,\n",
        "              'max_features':max_features,\n",
        "              'min_samples_split':min_sample_split,\n",
        "              'min_samples_leaf':min_sample_leaf\n",
        "                            }"
      ],
      "execution_count": null,
      "outputs": []
    },
    {
      "cell_type": "code",
      "metadata": {
        "colab": {
          "base_uri": "https://localhost:8080/"
        },
        "id": "wCougkJWtqjH",
        "outputId": "2cf0181b-3946-46d8-b07e-7d263b4d16f0"
      },
      "source": [
        "random_grid"
      ],
      "execution_count": null,
      "outputs": [
        {
          "output_type": "execute_result",
          "data": {
            "text/plain": [
              "{'max_depth': [10, 20, 30, 40, 50, 60, 70, 80, 90, 100, 110, None],\n",
              " 'max_features': ['auto', 'log2'],\n",
              " 'min_samples_leaf': [1, 2, 4],\n",
              " 'min_samples_split': [2, 5, 10],\n",
              " 'n_estimators': [200, 400, 600, 800, 1000, 1200, 1400, 1600, 1800, 2000]}"
            ]
          },
          "metadata": {
            "tags": []
          },
          "execution_count": 19
        }
      ]
    },
    {
      "cell_type": "code",
      "metadata": {
        "id": "soVPk9vJvTcA"
      },
      "source": [
        "# Utilize random_grid to identify the best hyper parameters, \n",
        "#set cross validation as 3 for using 3 fold cross validation, \n",
        "#and iter as 100 to search across 100 different combinations\n",
        "# use all available cores\n",
        "rf_random = RandomizedSearchCV(estimator = rf, param_distributions = random_grid, n_iter=50, cv=3, verbose=2, random_state=42, n_jobs=-1)\n"
      ],
      "execution_count": null,
      "outputs": []
    },
    {
      "cell_type": "code",
      "metadata": {
        "colab": {
          "base_uri": "https://localhost:8080/"
        },
        "id": "72SYEpFJxS_5",
        "outputId": "de6bb8c0-ee53-4f2b-aaf9-c64d10c628e6"
      },
      "source": [
        "rf_random.fit(X_morgan_train, y_morgan_train)"
      ],
      "execution_count": null,
      "outputs": [
        {
          "output_type": "stream",
          "text": [
            "Fitting 3 folds for each of 50 candidates, totalling 150 fits\n"
          ],
          "name": "stdout"
        },
        {
          "output_type": "stream",
          "text": [
            "[Parallel(n_jobs=-1)]: Using backend LokyBackend with 2 concurrent workers.\n",
            "[Parallel(n_jobs=-1)]: Done  37 tasks      | elapsed:  1.1min\n",
            "[Parallel(n_jobs=-1)]: Done 150 out of 150 | elapsed:  3.7min finished\n"
          ],
          "name": "stderr"
        },
        {
          "output_type": "execute_result",
          "data": {
            "text/plain": [
              "RandomizedSearchCV(cv=3, error_score=nan,\n",
              "                   estimator=RandomForestClassifier(bootstrap=True,\n",
              "                                                    ccp_alpha=0.0,\n",
              "                                                    class_weight=None,\n",
              "                                                    criterion='gini',\n",
              "                                                    max_depth=None,\n",
              "                                                    max_features='auto',\n",
              "                                                    max_leaf_nodes=None,\n",
              "                                                    max_samples=None,\n",
              "                                                    min_impurity_decrease=0.0,\n",
              "                                                    min_impurity_split=None,\n",
              "                                                    min_samples_leaf=1,\n",
              "                                                    min_samples_split=2,\n",
              "                                                    min_weight_fraction_leaf=0.0,\n",
              "                                                    n_estimators=100,\n",
              "                                                    n_jobs...\n",
              "                   iid='deprecated', n_iter=50, n_jobs=-1,\n",
              "                   param_distributions={'max_depth': [10, 20, 30, 40, 50, 60,\n",
              "                                                      70, 80, 90, 100, 110,\n",
              "                                                      None],\n",
              "                                        'max_features': ['auto', 'log2'],\n",
              "                                        'min_samples_leaf': [1, 2, 4],\n",
              "                                        'min_samples_split': [2, 5, 10],\n",
              "                                        'n_estimators': [200, 400, 600, 800,\n",
              "                                                         1000, 1200, 1400, 1600,\n",
              "                                                         1800, 2000]},\n",
              "                   pre_dispatch='2*n_jobs', random_state=42, refit=True,\n",
              "                   return_train_score=False, scoring=None, verbose=2)"
            ]
          },
          "metadata": {
            "tags": []
          },
          "execution_count": 22
        }
      ]
    },
    {
      "cell_type": "code",
      "metadata": {
        "colab": {
          "base_uri": "https://localhost:8080/"
        },
        "id": "DOVtF4IkzF1K",
        "outputId": "1196ce9c-bd48-44a0-a466-9a4823efa1d6"
      },
      "source": [
        "rf_random.best_params_"
      ],
      "execution_count": null,
      "outputs": [
        {
          "output_type": "execute_result",
          "data": {
            "text/plain": [
              "{'max_depth': 20,\n",
              " 'max_features': 'auto',\n",
              " 'min_samples_leaf': 1,\n",
              " 'min_samples_split': 2,\n",
              " 'n_estimators': 1000}"
            ]
          },
          "metadata": {
            "tags": []
          },
          "execution_count": 23
        }
      ]
    },
    {
      "cell_type": "code",
      "metadata": {
        "id": "W6FQMpdsmrP9"
      },
      "source": [
        "forestOpt = RandomForestClassifier(random_state = 42, max_depth = 20,     n_estimators = 1000, min_samples_split = 1.0, min_samples_leaf = 2)"
      ],
      "execution_count": null,
      "outputs": []
    },
    {
      "cell_type": "code",
      "metadata": {
        "id": "t6okBDbkkl6_"
      },
      "source": [
        "modelOpt = forestOpt.fit(X_morgan_train, y_morgan_train)\n",
        "y_pred = modelOpt.predict(X_morgan_test)"
      ],
      "execution_count": null,
      "outputs": []
    },
    {
      "cell_type": "code",
      "metadata": {
        "colab": {
          "base_uri": "https://localhost:8080/"
        },
        "id": "H8JlP3BvltfY",
        "outputId": "175e7bc2-cee8-4bb9-c757-af373f84b9f8"
      },
      "source": [
        "# Accuracy score\n",
        "from sklearn.metrics import accuracy_score\n",
        "accuracy_score(y_morgan_test, y_pred)"
      ],
      "execution_count": null,
      "outputs": [
        {
          "output_type": "execute_result",
          "data": {
            "text/plain": [
              "0.7676056338028169"
            ]
          },
          "metadata": {
            "tags": []
          },
          "execution_count": 31
        }
      ]
    },
    {
      "cell_type": "markdown",
      "metadata": {
        "id": "wHikpF_Lzt0a"
      },
      "source": [
        ""
      ]
    },
    {
      "cell_type": "markdown",
      "metadata": {
        "id": "BkUS5Gylzvw1"
      },
      "source": [
        "Compare base model with best random search model"
      ]
    },
    {
      "cell_type": "code",
      "metadata": {
        "colab": {
          "base_uri": "https://localhost:8080/"
        },
        "id": "hHWfxqfymIFz",
        "outputId": "6a596b43-39a5-452d-90c7-69c2e3740ff8"
      },
      "source": [
        "base_model = RandomForestClassifier(n_estimators=100, random_state=42, min_samples_split = 2, min_samples_leaf = 1)\n",
        "bm = base_model.fit(X_morgan_train, y_morgan_train)\n",
        "y_pred_bm = bm.predict(X_morgan_test)\n",
        "accuracy_score(y_morgan_test, y_pred)"
      ],
      "execution_count": null,
      "outputs": [
        {
          "output_type": "execute_result",
          "data": {
            "text/plain": [
              "0.7676056338028169"
            ]
          },
          "metadata": {
            "tags": []
          },
          "execution_count": 34
        }
      ]
    },
    {
      "cell_type": "markdown",
      "metadata": {
        "id": "8Y53wZ7q3-xG"
      },
      "source": [
        "GRID SEARCH"
      ]
    },
    {
      "cell_type": "code",
      "metadata": {
        "id": "lYSZFycG4B-0"
      },
      "source": [
        "from sklearn.model_selection import GridSearchCV\n",
        "\n",
        "param_grid = {\n",
        "    'bootstrap':[True],\n",
        "    'n_estimators':[100,200,300,1000],\n",
        "    'max_depth':[80,90,100,110],\n",
        "    'min_samples_leaf':[3,4,5],\n",
        "    'min_samples_split':[8,10,12],\n",
        "    }\n",
        "rf = RandomForestClassifier()\n",
        "\n",
        "# Instantiate grid model\n",
        "\n",
        "grid_search = GridSearchCV(estimator=rf, param_grid=param_grid, cv=3, verbose=2)"
      ],
      "execution_count": null,
      "outputs": []
    },
    {
      "cell_type": "code",
      "metadata": {
        "colab": {
          "background_save": true,
          "base_uri": "https://localhost:8080/"
        },
        "id": "WfBGEziZ5Vtw",
        "outputId": "4f8ccbae-6479-4dd3-f1db-c7ff192efcb5"
      },
      "source": [
        "# Fit grid search into data\n",
        "\n",
        "grid_search.fit(X_morgan_train, y_morgan_train)\n",
        "grid_search.best_params_\n",
        "\n",
        "\n",
        "\n",
        "\n"
      ],
      "execution_count": null,
      "outputs": [
        {
          "output_type": "stream",
          "text": [
            "Fitting 3 folds for each of 144 candidates, totalling 432 fits\n",
            "[CV] bootstrap=True, max_depth=80, min_samples_leaf=3, min_samples_split=8, n_estimators=100 \n",
            "[CV]  bootstrap=True, max_depth=80, min_samples_leaf=3, min_samples_split=8, n_estimators=100, total=   0.2s"
          ],
          "name": "stdout"
        },
        {
          "output_type": "stream",
          "text": [
            "[Parallel(n_jobs=1)]: Using backend SequentialBackend with 1 concurrent workers.\n",
            "[Parallel(n_jobs=1)]: Done   1 out of   1 | elapsed:    0.2s remaining:    0.0s\n"
          ],
          "name": "stderr"
        },
        {
          "output_type": "stream",
          "text": [
            "\n",
            "[CV] bootstrap=True, max_depth=80, min_samples_leaf=3, min_samples_split=8, n_estimators=100 \n",
            "[CV]  bootstrap=True, max_depth=80, min_samples_leaf=3, min_samples_split=8, n_estimators=100, total=   0.2s\n",
            "[CV] bootstrap=True, max_depth=80, min_samples_leaf=3, min_samples_split=8, n_estimators=100 \n",
            "[CV]  bootstrap=True, max_depth=80, min_samples_leaf=3, min_samples_split=8, n_estimators=100, total=   0.2s\n",
            "[CV] bootstrap=True, max_depth=80, min_samples_leaf=3, min_samples_split=8, n_estimators=200 \n",
            "[CV]  bootstrap=True, max_depth=80, min_samples_leaf=3, min_samples_split=8, n_estimators=200, total=   0.3s\n",
            "[CV] bootstrap=True, max_depth=80, min_samples_leaf=3, min_samples_split=8, n_estimators=200 \n",
            "[CV]  bootstrap=True, max_depth=80, min_samples_leaf=3, min_samples_split=8, n_estimators=200, total=   0.4s\n",
            "[CV] bootstrap=True, max_depth=80, min_samples_leaf=3, min_samples_split=8, n_estimators=200 \n",
            "[CV]  bootstrap=True, max_depth=80, min_samples_leaf=3, min_samples_split=8, n_estimators=200, total=   0.3s\n",
            "[CV] bootstrap=True, max_depth=80, min_samples_leaf=3, min_samples_split=8, n_estimators=300 \n",
            "[CV]  bootstrap=True, max_depth=80, min_samples_leaf=3, min_samples_split=8, n_estimators=300, total=   0.5s\n",
            "[CV] bootstrap=True, max_depth=80, min_samples_leaf=3, min_samples_split=8, n_estimators=300 \n",
            "[CV]  bootstrap=True, max_depth=80, min_samples_leaf=3, min_samples_split=8, n_estimators=300, total=   0.5s\n",
            "[CV] bootstrap=True, max_depth=80, min_samples_leaf=3, min_samples_split=8, n_estimators=300 \n",
            "[CV]  bootstrap=True, max_depth=80, min_samples_leaf=3, min_samples_split=8, n_estimators=300, total=   0.5s\n",
            "[CV] bootstrap=True, max_depth=80, min_samples_leaf=3, min_samples_split=8, n_estimators=1000 \n",
            "[CV]  bootstrap=True, max_depth=80, min_samples_leaf=3, min_samples_split=8, n_estimators=1000, total=   1.8s\n",
            "[CV] bootstrap=True, max_depth=80, min_samples_leaf=3, min_samples_split=8, n_estimators=1000 \n",
            "[CV]  bootstrap=True, max_depth=80, min_samples_leaf=3, min_samples_split=8, n_estimators=1000, total=   1.8s\n",
            "[CV] bootstrap=True, max_depth=80, min_samples_leaf=3, min_samples_split=8, n_estimators=1000 \n",
            "[CV]  bootstrap=True, max_depth=80, min_samples_leaf=3, min_samples_split=8, n_estimators=1000, total=   1.7s\n",
            "[CV] bootstrap=True, max_depth=80, min_samples_leaf=3, min_samples_split=10, n_estimators=100 \n",
            "[CV]  bootstrap=True, max_depth=80, min_samples_leaf=3, min_samples_split=10, n_estimators=100, total=   0.2s\n",
            "[CV] bootstrap=True, max_depth=80, min_samples_leaf=3, min_samples_split=10, n_estimators=100 \n",
            "[CV]  bootstrap=True, max_depth=80, min_samples_leaf=3, min_samples_split=10, n_estimators=100, total=   0.2s\n",
            "[CV] bootstrap=True, max_depth=80, min_samples_leaf=3, min_samples_split=10, n_estimators=100 \n",
            "[CV]  bootstrap=True, max_depth=80, min_samples_leaf=3, min_samples_split=10, n_estimators=100, total=   0.2s\n",
            "[CV] bootstrap=True, max_depth=80, min_samples_leaf=3, min_samples_split=10, n_estimators=200 \n",
            "[CV]  bootstrap=True, max_depth=80, min_samples_leaf=3, min_samples_split=10, n_estimators=200, total=   0.4s\n",
            "[CV] bootstrap=True, max_depth=80, min_samples_leaf=3, min_samples_split=10, n_estimators=200 \n",
            "[CV]  bootstrap=True, max_depth=80, min_samples_leaf=3, min_samples_split=10, n_estimators=200, total=   0.4s\n",
            "[CV] bootstrap=True, max_depth=80, min_samples_leaf=3, min_samples_split=10, n_estimators=200 \n",
            "[CV]  bootstrap=True, max_depth=80, min_samples_leaf=3, min_samples_split=10, n_estimators=200, total=   0.4s\n",
            "[CV] bootstrap=True, max_depth=80, min_samples_leaf=3, min_samples_split=10, n_estimators=300 \n",
            "[CV]  bootstrap=True, max_depth=80, min_samples_leaf=3, min_samples_split=10, n_estimators=300, total=   0.5s\n",
            "[CV] bootstrap=True, max_depth=80, min_samples_leaf=3, min_samples_split=10, n_estimators=300 \n",
            "[CV]  bootstrap=True, max_depth=80, min_samples_leaf=3, min_samples_split=10, n_estimators=300, total=   0.5s\n",
            "[CV] bootstrap=True, max_depth=80, min_samples_leaf=3, min_samples_split=10, n_estimators=300 \n",
            "[CV]  bootstrap=True, max_depth=80, min_samples_leaf=3, min_samples_split=10, n_estimators=300, total=   0.5s\n",
            "[CV] bootstrap=True, max_depth=80, min_samples_leaf=3, min_samples_split=10, n_estimators=1000 \n",
            "[CV]  bootstrap=True, max_depth=80, min_samples_leaf=3, min_samples_split=10, n_estimators=1000, total=   1.7s\n",
            "[CV] bootstrap=True, max_depth=80, min_samples_leaf=3, min_samples_split=10, n_estimators=1000 \n",
            "[CV]  bootstrap=True, max_depth=80, min_samples_leaf=3, min_samples_split=10, n_estimators=1000, total=   1.7s\n",
            "[CV] bootstrap=True, max_depth=80, min_samples_leaf=3, min_samples_split=10, n_estimators=1000 \n",
            "[CV]  bootstrap=True, max_depth=80, min_samples_leaf=3, min_samples_split=10, n_estimators=1000, total=   1.7s\n",
            "[CV] bootstrap=True, max_depth=80, min_samples_leaf=3, min_samples_split=12, n_estimators=100 \n",
            "[CV]  bootstrap=True, max_depth=80, min_samples_leaf=3, min_samples_split=12, n_estimators=100, total=   0.2s\n",
            "[CV] bootstrap=True, max_depth=80, min_samples_leaf=3, min_samples_split=12, n_estimators=100 \n",
            "[CV]  bootstrap=True, max_depth=80, min_samples_leaf=3, min_samples_split=12, n_estimators=100, total=   0.2s\n",
            "[CV] bootstrap=True, max_depth=80, min_samples_leaf=3, min_samples_split=12, n_estimators=100 \n",
            "[CV]  bootstrap=True, max_depth=80, min_samples_leaf=3, min_samples_split=12, n_estimators=100, total=   0.2s\n",
            "[CV] bootstrap=True, max_depth=80, min_samples_leaf=3, min_samples_split=12, n_estimators=200 \n",
            "[CV]  bootstrap=True, max_depth=80, min_samples_leaf=3, min_samples_split=12, n_estimators=200, total=   0.4s\n",
            "[CV] bootstrap=True, max_depth=80, min_samples_leaf=3, min_samples_split=12, n_estimators=200 \n",
            "[CV]  bootstrap=True, max_depth=80, min_samples_leaf=3, min_samples_split=12, n_estimators=200, total=   0.3s\n",
            "[CV] bootstrap=True, max_depth=80, min_samples_leaf=3, min_samples_split=12, n_estimators=200 \n",
            "[CV]  bootstrap=True, max_depth=80, min_samples_leaf=3, min_samples_split=12, n_estimators=200, total=   0.3s\n",
            "[CV] bootstrap=True, max_depth=80, min_samples_leaf=3, min_samples_split=12, n_estimators=300 \n",
            "[CV]  bootstrap=True, max_depth=80, min_samples_leaf=3, min_samples_split=12, n_estimators=300, total=   0.5s\n",
            "[CV] bootstrap=True, max_depth=80, min_samples_leaf=3, min_samples_split=12, n_estimators=300 \n",
            "[CV]  bootstrap=True, max_depth=80, min_samples_leaf=3, min_samples_split=12, n_estimators=300, total=   0.5s\n",
            "[CV] bootstrap=True, max_depth=80, min_samples_leaf=3, min_samples_split=12, n_estimators=300 \n",
            "[CV]  bootstrap=True, max_depth=80, min_samples_leaf=3, min_samples_split=12, n_estimators=300, total=   0.5s\n",
            "[CV] bootstrap=True, max_depth=80, min_samples_leaf=3, min_samples_split=12, n_estimators=1000 \n",
            "[CV]  bootstrap=True, max_depth=80, min_samples_leaf=3, min_samples_split=12, n_estimators=1000, total=   1.7s\n",
            "[CV] bootstrap=True, max_depth=80, min_samples_leaf=3, min_samples_split=12, n_estimators=1000 \n",
            "[CV]  bootstrap=True, max_depth=80, min_samples_leaf=3, min_samples_split=12, n_estimators=1000, total=   1.7s\n",
            "[CV] bootstrap=True, max_depth=80, min_samples_leaf=3, min_samples_split=12, n_estimators=1000 \n",
            "[CV]  bootstrap=True, max_depth=80, min_samples_leaf=3, min_samples_split=12, n_estimators=1000, total=   1.7s\n",
            "[CV] bootstrap=True, max_depth=80, min_samples_leaf=4, min_samples_split=8, n_estimators=100 \n",
            "[CV]  bootstrap=True, max_depth=80, min_samples_leaf=4, min_samples_split=8, n_estimators=100, total=   0.2s\n",
            "[CV] bootstrap=True, max_depth=80, min_samples_leaf=4, min_samples_split=8, n_estimators=100 \n",
            "[CV]  bootstrap=True, max_depth=80, min_samples_leaf=4, min_samples_split=8, n_estimators=100, total=   0.2s\n",
            "[CV] bootstrap=True, max_depth=80, min_samples_leaf=4, min_samples_split=8, n_estimators=100 \n",
            "[CV]  bootstrap=True, max_depth=80, min_samples_leaf=4, min_samples_split=8, n_estimators=100, total=   0.2s\n",
            "[CV] bootstrap=True, max_depth=80, min_samples_leaf=4, min_samples_split=8, n_estimators=200 \n",
            "[CV]  bootstrap=True, max_depth=80, min_samples_leaf=4, min_samples_split=8, n_estimators=200, total=   0.3s\n",
            "[CV] bootstrap=True, max_depth=80, min_samples_leaf=4, min_samples_split=8, n_estimators=200 \n",
            "[CV]  bootstrap=True, max_depth=80, min_samples_leaf=4, min_samples_split=8, n_estimators=200, total=   0.3s\n",
            "[CV] bootstrap=True, max_depth=80, min_samples_leaf=4, min_samples_split=8, n_estimators=200 \n",
            "[CV]  bootstrap=True, max_depth=80, min_samples_leaf=4, min_samples_split=8, n_estimators=200, total=   0.3s\n",
            "[CV] bootstrap=True, max_depth=80, min_samples_leaf=4, min_samples_split=8, n_estimators=300 \n",
            "[CV]  bootstrap=True, max_depth=80, min_samples_leaf=4, min_samples_split=8, n_estimators=300, total=   0.5s\n",
            "[CV] bootstrap=True, max_depth=80, min_samples_leaf=4, min_samples_split=8, n_estimators=300 \n",
            "[CV]  bootstrap=True, max_depth=80, min_samples_leaf=4, min_samples_split=8, n_estimators=300, total=   0.5s\n",
            "[CV] bootstrap=True, max_depth=80, min_samples_leaf=4, min_samples_split=8, n_estimators=300 \n",
            "[CV]  bootstrap=True, max_depth=80, min_samples_leaf=4, min_samples_split=8, n_estimators=300, total=   0.5s\n",
            "[CV] bootstrap=True, max_depth=80, min_samples_leaf=4, min_samples_split=8, n_estimators=1000 \n",
            "[CV]  bootstrap=True, max_depth=80, min_samples_leaf=4, min_samples_split=8, n_estimators=1000, total=   1.7s\n",
            "[CV] bootstrap=True, max_depth=80, min_samples_leaf=4, min_samples_split=8, n_estimators=1000 \n",
            "[CV]  bootstrap=True, max_depth=80, min_samples_leaf=4, min_samples_split=8, n_estimators=1000, total=   1.7s\n",
            "[CV] bootstrap=True, max_depth=80, min_samples_leaf=4, min_samples_split=8, n_estimators=1000 \n",
            "[CV]  bootstrap=True, max_depth=80, min_samples_leaf=4, min_samples_split=8, n_estimators=1000, total=   1.7s\n",
            "[CV] bootstrap=True, max_depth=80, min_samples_leaf=4, min_samples_split=10, n_estimators=100 \n",
            "[CV]  bootstrap=True, max_depth=80, min_samples_leaf=4, min_samples_split=10, n_estimators=100, total=   0.2s\n",
            "[CV] bootstrap=True, max_depth=80, min_samples_leaf=4, min_samples_split=10, n_estimators=100 \n",
            "[CV]  bootstrap=True, max_depth=80, min_samples_leaf=4, min_samples_split=10, n_estimators=100, total=   0.2s\n",
            "[CV] bootstrap=True, max_depth=80, min_samples_leaf=4, min_samples_split=10, n_estimators=100 \n",
            "[CV]  bootstrap=True, max_depth=80, min_samples_leaf=4, min_samples_split=10, n_estimators=100, total=   0.2s\n",
            "[CV] bootstrap=True, max_depth=80, min_samples_leaf=4, min_samples_split=10, n_estimators=200 \n",
            "[CV]  bootstrap=True, max_depth=80, min_samples_leaf=4, min_samples_split=10, n_estimators=200, total=   0.3s\n",
            "[CV] bootstrap=True, max_depth=80, min_samples_leaf=4, min_samples_split=10, n_estimators=200 \n",
            "[CV]  bootstrap=True, max_depth=80, min_samples_leaf=4, min_samples_split=10, n_estimators=200, total=   0.4s\n",
            "[CV] bootstrap=True, max_depth=80, min_samples_leaf=4, min_samples_split=10, n_estimators=200 \n",
            "[CV]  bootstrap=True, max_depth=80, min_samples_leaf=4, min_samples_split=10, n_estimators=200, total=   0.4s\n",
            "[CV] bootstrap=True, max_depth=80, min_samples_leaf=4, min_samples_split=10, n_estimators=300 \n",
            "[CV]  bootstrap=True, max_depth=80, min_samples_leaf=4, min_samples_split=10, n_estimators=300, total=   0.5s\n",
            "[CV] bootstrap=True, max_depth=80, min_samples_leaf=4, min_samples_split=10, n_estimators=300 \n",
            "[CV]  bootstrap=True, max_depth=80, min_samples_leaf=4, min_samples_split=10, n_estimators=300, total=   0.5s\n",
            "[CV] bootstrap=True, max_depth=80, min_samples_leaf=4, min_samples_split=10, n_estimators=300 \n",
            "[CV]  bootstrap=True, max_depth=80, min_samples_leaf=4, min_samples_split=10, n_estimators=300, total=   0.5s\n",
            "[CV] bootstrap=True, max_depth=80, min_samples_leaf=4, min_samples_split=10, n_estimators=1000 \n",
            "[CV]  bootstrap=True, max_depth=80, min_samples_leaf=4, min_samples_split=10, n_estimators=1000, total=   1.7s\n",
            "[CV] bootstrap=True, max_depth=80, min_samples_leaf=4, min_samples_split=10, n_estimators=1000 \n",
            "[CV]  bootstrap=True, max_depth=80, min_samples_leaf=4, min_samples_split=10, n_estimators=1000, total=   1.7s\n",
            "[CV] bootstrap=True, max_depth=80, min_samples_leaf=4, min_samples_split=10, n_estimators=1000 \n",
            "[CV]  bootstrap=True, max_depth=80, min_samples_leaf=4, min_samples_split=10, n_estimators=1000, total=   1.6s\n",
            "[CV] bootstrap=True, max_depth=80, min_samples_leaf=4, min_samples_split=12, n_estimators=100 \n",
            "[CV]  bootstrap=True, max_depth=80, min_samples_leaf=4, min_samples_split=12, n_estimators=100, total=   0.2s\n",
            "[CV] bootstrap=True, max_depth=80, min_samples_leaf=4, min_samples_split=12, n_estimators=100 \n",
            "[CV]  bootstrap=True, max_depth=80, min_samples_leaf=4, min_samples_split=12, n_estimators=100, total=   0.2s\n",
            "[CV] bootstrap=True, max_depth=80, min_samples_leaf=4, min_samples_split=12, n_estimators=100 \n",
            "[CV]  bootstrap=True, max_depth=80, min_samples_leaf=4, min_samples_split=12, n_estimators=100, total=   0.2s\n",
            "[CV] bootstrap=True, max_depth=80, min_samples_leaf=4, min_samples_split=12, n_estimators=200 \n",
            "[CV]  bootstrap=True, max_depth=80, min_samples_leaf=4, min_samples_split=12, n_estimators=200, total=   0.3s\n",
            "[CV] bootstrap=True, max_depth=80, min_samples_leaf=4, min_samples_split=12, n_estimators=200 \n",
            "[CV]  bootstrap=True, max_depth=80, min_samples_leaf=4, min_samples_split=12, n_estimators=200, total=   0.3s\n",
            "[CV] bootstrap=True, max_depth=80, min_samples_leaf=4, min_samples_split=12, n_estimators=200 \n",
            "[CV]  bootstrap=True, max_depth=80, min_samples_leaf=4, min_samples_split=12, n_estimators=200, total=   0.3s\n",
            "[CV] bootstrap=True, max_depth=80, min_samples_leaf=4, min_samples_split=12, n_estimators=300 \n",
            "[CV]  bootstrap=True, max_depth=80, min_samples_leaf=4, min_samples_split=12, n_estimators=300, total=   0.5s\n",
            "[CV] bootstrap=True, max_depth=80, min_samples_leaf=4, min_samples_split=12, n_estimators=300 \n",
            "[CV]  bootstrap=True, max_depth=80, min_samples_leaf=4, min_samples_split=12, n_estimators=300, total=   0.5s\n",
            "[CV] bootstrap=True, max_depth=80, min_samples_leaf=4, min_samples_split=12, n_estimators=300 \n",
            "[CV]  bootstrap=True, max_depth=80, min_samples_leaf=4, min_samples_split=12, n_estimators=300, total=   0.5s\n",
            "[CV] bootstrap=True, max_depth=80, min_samples_leaf=4, min_samples_split=12, n_estimators=1000 \n",
            "[CV]  bootstrap=True, max_depth=80, min_samples_leaf=4, min_samples_split=12, n_estimators=1000, total=   1.8s\n",
            "[CV] bootstrap=True, max_depth=80, min_samples_leaf=4, min_samples_split=12, n_estimators=1000 \n",
            "[CV]  bootstrap=True, max_depth=80, min_samples_leaf=4, min_samples_split=12, n_estimators=1000, total=   1.7s\n",
            "[CV] bootstrap=True, max_depth=80, min_samples_leaf=4, min_samples_split=12, n_estimators=1000 \n",
            "[CV]  bootstrap=True, max_depth=80, min_samples_leaf=4, min_samples_split=12, n_estimators=1000, total=   1.6s\n",
            "[CV] bootstrap=True, max_depth=80, min_samples_leaf=5, min_samples_split=8, n_estimators=100 \n",
            "[CV]  bootstrap=True, max_depth=80, min_samples_leaf=5, min_samples_split=8, n_estimators=100, total=   0.2s\n",
            "[CV] bootstrap=True, max_depth=80, min_samples_leaf=5, min_samples_split=8, n_estimators=100 \n",
            "[CV]  bootstrap=True, max_depth=80, min_samples_leaf=5, min_samples_split=8, n_estimators=100, total=   0.2s\n",
            "[CV] bootstrap=True, max_depth=80, min_samples_leaf=5, min_samples_split=8, n_estimators=100 \n",
            "[CV]  bootstrap=True, max_depth=80, min_samples_leaf=5, min_samples_split=8, n_estimators=100, total=   0.2s\n",
            "[CV] bootstrap=True, max_depth=80, min_samples_leaf=5, min_samples_split=8, n_estimators=200 \n",
            "[CV]  bootstrap=True, max_depth=80, min_samples_leaf=5, min_samples_split=8, n_estimators=200, total=   0.3s\n",
            "[CV] bootstrap=True, max_depth=80, min_samples_leaf=5, min_samples_split=8, n_estimators=200 \n",
            "[CV]  bootstrap=True, max_depth=80, min_samples_leaf=5, min_samples_split=8, n_estimators=200, total=   0.3s\n",
            "[CV] bootstrap=True, max_depth=80, min_samples_leaf=5, min_samples_split=8, n_estimators=200 \n",
            "[CV]  bootstrap=True, max_depth=80, min_samples_leaf=5, min_samples_split=8, n_estimators=200, total=   0.3s\n",
            "[CV] bootstrap=True, max_depth=80, min_samples_leaf=5, min_samples_split=8, n_estimators=300 \n",
            "[CV]  bootstrap=True, max_depth=80, min_samples_leaf=5, min_samples_split=8, n_estimators=300, total=   0.5s\n",
            "[CV] bootstrap=True, max_depth=80, min_samples_leaf=5, min_samples_split=8, n_estimators=300 \n",
            "[CV]  bootstrap=True, max_depth=80, min_samples_leaf=5, min_samples_split=8, n_estimators=300, total=   0.5s\n",
            "[CV] bootstrap=True, max_depth=80, min_samples_leaf=5, min_samples_split=8, n_estimators=300 \n",
            "[CV]  bootstrap=True, max_depth=80, min_samples_leaf=5, min_samples_split=8, n_estimators=300, total=   0.5s\n",
            "[CV] bootstrap=True, max_depth=80, min_samples_leaf=5, min_samples_split=8, n_estimators=1000 \n",
            "[CV]  bootstrap=True, max_depth=80, min_samples_leaf=5, min_samples_split=8, n_estimators=1000, total=   1.7s\n",
            "[CV] bootstrap=True, max_depth=80, min_samples_leaf=5, min_samples_split=8, n_estimators=1000 \n",
            "[CV]  bootstrap=True, max_depth=80, min_samples_leaf=5, min_samples_split=8, n_estimators=1000, total=   1.7s\n",
            "[CV] bootstrap=True, max_depth=80, min_samples_leaf=5, min_samples_split=8, n_estimators=1000 \n",
            "[CV]  bootstrap=True, max_depth=80, min_samples_leaf=5, min_samples_split=8, n_estimators=1000, total=   1.6s\n",
            "[CV] bootstrap=True, max_depth=80, min_samples_leaf=5, min_samples_split=10, n_estimators=100 \n",
            "[CV]  bootstrap=True, max_depth=80, min_samples_leaf=5, min_samples_split=10, n_estimators=100, total=   0.2s\n",
            "[CV] bootstrap=True, max_depth=80, min_samples_leaf=5, min_samples_split=10, n_estimators=100 \n",
            "[CV]  bootstrap=True, max_depth=80, min_samples_leaf=5, min_samples_split=10, n_estimators=100, total=   0.2s\n",
            "[CV] bootstrap=True, max_depth=80, min_samples_leaf=5, min_samples_split=10, n_estimators=100 \n",
            "[CV]  bootstrap=True, max_depth=80, min_samples_leaf=5, min_samples_split=10, n_estimators=100, total=   0.2s\n",
            "[CV] bootstrap=True, max_depth=80, min_samples_leaf=5, min_samples_split=10, n_estimators=200 \n",
            "[CV]  bootstrap=True, max_depth=80, min_samples_leaf=5, min_samples_split=10, n_estimators=200, total=   0.3s\n",
            "[CV] bootstrap=True, max_depth=80, min_samples_leaf=5, min_samples_split=10, n_estimators=200 \n",
            "[CV]  bootstrap=True, max_depth=80, min_samples_leaf=5, min_samples_split=10, n_estimators=200, total=   0.3s\n",
            "[CV] bootstrap=True, max_depth=80, min_samples_leaf=5, min_samples_split=10, n_estimators=200 \n",
            "[CV]  bootstrap=True, max_depth=80, min_samples_leaf=5, min_samples_split=10, n_estimators=200, total=   0.3s\n",
            "[CV] bootstrap=True, max_depth=80, min_samples_leaf=5, min_samples_split=10, n_estimators=300 \n",
            "[CV]  bootstrap=True, max_depth=80, min_samples_leaf=5, min_samples_split=10, n_estimators=300, total=   0.5s\n",
            "[CV] bootstrap=True, max_depth=80, min_samples_leaf=5, min_samples_split=10, n_estimators=300 \n",
            "[CV]  bootstrap=True, max_depth=80, min_samples_leaf=5, min_samples_split=10, n_estimators=300, total=   0.5s\n",
            "[CV] bootstrap=True, max_depth=80, min_samples_leaf=5, min_samples_split=10, n_estimators=300 \n",
            "[CV]  bootstrap=True, max_depth=80, min_samples_leaf=5, min_samples_split=10, n_estimators=300, total=   0.5s\n",
            "[CV] bootstrap=True, max_depth=80, min_samples_leaf=5, min_samples_split=10, n_estimators=1000 \n",
            "[CV]  bootstrap=True, max_depth=80, min_samples_leaf=5, min_samples_split=10, n_estimators=1000, total=   1.6s\n",
            "[CV] bootstrap=True, max_depth=80, min_samples_leaf=5, min_samples_split=10, n_estimators=1000 \n",
            "[CV]  bootstrap=True, max_depth=80, min_samples_leaf=5, min_samples_split=10, n_estimators=1000, total=   1.6s\n",
            "[CV] bootstrap=True, max_depth=80, min_samples_leaf=5, min_samples_split=10, n_estimators=1000 \n",
            "[CV]  bootstrap=True, max_depth=80, min_samples_leaf=5, min_samples_split=10, n_estimators=1000, total=   1.6s\n",
            "[CV] bootstrap=True, max_depth=80, min_samples_leaf=5, min_samples_split=12, n_estimators=100 \n",
            "[CV]  bootstrap=True, max_depth=80, min_samples_leaf=5, min_samples_split=12, n_estimators=100, total=   0.2s\n",
            "[CV] bootstrap=True, max_depth=80, min_samples_leaf=5, min_samples_split=12, n_estimators=100 \n",
            "[CV]  bootstrap=True, max_depth=80, min_samples_leaf=5, min_samples_split=12, n_estimators=100, total=   0.2s\n",
            "[CV] bootstrap=True, max_depth=80, min_samples_leaf=5, min_samples_split=12, n_estimators=100 \n",
            "[CV]  bootstrap=True, max_depth=80, min_samples_leaf=5, min_samples_split=12, n_estimators=100, total=   0.2s\n",
            "[CV] bootstrap=True, max_depth=80, min_samples_leaf=5, min_samples_split=12, n_estimators=200 \n",
            "[CV]  bootstrap=True, max_depth=80, min_samples_leaf=5, min_samples_split=12, n_estimators=200, total=   0.3s\n",
            "[CV] bootstrap=True, max_depth=80, min_samples_leaf=5, min_samples_split=12, n_estimators=200 \n",
            "[CV]  bootstrap=True, max_depth=80, min_samples_leaf=5, min_samples_split=12, n_estimators=200, total=   0.3s\n",
            "[CV] bootstrap=True, max_depth=80, min_samples_leaf=5, min_samples_split=12, n_estimators=200 \n",
            "[CV]  bootstrap=True, max_depth=80, min_samples_leaf=5, min_samples_split=12, n_estimators=200, total=   0.3s\n",
            "[CV] bootstrap=True, max_depth=80, min_samples_leaf=5, min_samples_split=12, n_estimators=300 \n",
            "[CV]  bootstrap=True, max_depth=80, min_samples_leaf=5, min_samples_split=12, n_estimators=300, total=   0.5s\n",
            "[CV] bootstrap=True, max_depth=80, min_samples_leaf=5, min_samples_split=12, n_estimators=300 \n",
            "[CV]  bootstrap=True, max_depth=80, min_samples_leaf=5, min_samples_split=12, n_estimators=300, total=   0.5s\n",
            "[CV] bootstrap=True, max_depth=80, min_samples_leaf=5, min_samples_split=12, n_estimators=300 \n",
            "[CV]  bootstrap=True, max_depth=80, min_samples_leaf=5, min_samples_split=12, n_estimators=300, total=   0.5s\n",
            "[CV] bootstrap=True, max_depth=80, min_samples_leaf=5, min_samples_split=12, n_estimators=1000 \n",
            "[CV]  bootstrap=True, max_depth=80, min_samples_leaf=5, min_samples_split=12, n_estimators=1000, total=   1.7s\n",
            "[CV] bootstrap=True, max_depth=80, min_samples_leaf=5, min_samples_split=12, n_estimators=1000 \n",
            "[CV]  bootstrap=True, max_depth=80, min_samples_leaf=5, min_samples_split=12, n_estimators=1000, total=   1.6s\n",
            "[CV] bootstrap=True, max_depth=80, min_samples_leaf=5, min_samples_split=12, n_estimators=1000 \n",
            "[CV]  bootstrap=True, max_depth=80, min_samples_leaf=5, min_samples_split=12, n_estimators=1000, total=   1.6s\n",
            "[CV] bootstrap=True, max_depth=90, min_samples_leaf=3, min_samples_split=8, n_estimators=100 \n",
            "[CV]  bootstrap=True, max_depth=90, min_samples_leaf=3, min_samples_split=8, n_estimators=100, total=   0.2s\n",
            "[CV] bootstrap=True, max_depth=90, min_samples_leaf=3, min_samples_split=8, n_estimators=100 \n",
            "[CV]  bootstrap=True, max_depth=90, min_samples_leaf=3, min_samples_split=8, n_estimators=100, total=   0.2s\n",
            "[CV] bootstrap=True, max_depth=90, min_samples_leaf=3, min_samples_split=8, n_estimators=100 \n",
            "[CV]  bootstrap=True, max_depth=90, min_samples_leaf=3, min_samples_split=8, n_estimators=100, total=   0.2s\n",
            "[CV] bootstrap=True, max_depth=90, min_samples_leaf=3, min_samples_split=8, n_estimators=200 \n",
            "[CV]  bootstrap=True, max_depth=90, min_samples_leaf=3, min_samples_split=8, n_estimators=200, total=   0.4s\n",
            "[CV] bootstrap=True, max_depth=90, min_samples_leaf=3, min_samples_split=8, n_estimators=200 \n",
            "[CV]  bootstrap=True, max_depth=90, min_samples_leaf=3, min_samples_split=8, n_estimators=200, total=   0.3s\n",
            "[CV] bootstrap=True, max_depth=90, min_samples_leaf=3, min_samples_split=8, n_estimators=200 \n",
            "[CV]  bootstrap=True, max_depth=90, min_samples_leaf=3, min_samples_split=8, n_estimators=200, total=   0.3s\n",
            "[CV] bootstrap=True, max_depth=90, min_samples_leaf=3, min_samples_split=8, n_estimators=300 \n",
            "[CV]  bootstrap=True, max_depth=90, min_samples_leaf=3, min_samples_split=8, n_estimators=300, total=   0.5s\n",
            "[CV] bootstrap=True, max_depth=90, min_samples_leaf=3, min_samples_split=8, n_estimators=300 \n",
            "[CV]  bootstrap=True, max_depth=90, min_samples_leaf=3, min_samples_split=8, n_estimators=300, total=   0.5s\n",
            "[CV] bootstrap=True, max_depth=90, min_samples_leaf=3, min_samples_split=8, n_estimators=300 \n",
            "[CV]  bootstrap=True, max_depth=90, min_samples_leaf=3, min_samples_split=8, n_estimators=300, total=   0.5s\n",
            "[CV] bootstrap=True, max_depth=90, min_samples_leaf=3, min_samples_split=8, n_estimators=1000 \n",
            "[CV]  bootstrap=True, max_depth=90, min_samples_leaf=3, min_samples_split=8, n_estimators=1000, total=   1.7s\n",
            "[CV] bootstrap=True, max_depth=90, min_samples_leaf=3, min_samples_split=8, n_estimators=1000 \n",
            "[CV]  bootstrap=True, max_depth=90, min_samples_leaf=3, min_samples_split=8, n_estimators=1000, total=   1.7s\n",
            "[CV] bootstrap=True, max_depth=90, min_samples_leaf=3, min_samples_split=8, n_estimators=1000 \n",
            "[CV]  bootstrap=True, max_depth=90, min_samples_leaf=3, min_samples_split=8, n_estimators=1000, total=   1.7s\n",
            "[CV] bootstrap=True, max_depth=90, min_samples_leaf=3, min_samples_split=10, n_estimators=100 \n",
            "[CV]  bootstrap=True, max_depth=90, min_samples_leaf=3, min_samples_split=10, n_estimators=100, total=   0.2s\n",
            "[CV] bootstrap=True, max_depth=90, min_samples_leaf=3, min_samples_split=10, n_estimators=100 \n",
            "[CV]  bootstrap=True, max_depth=90, min_samples_leaf=3, min_samples_split=10, n_estimators=100, total=   0.2s\n",
            "[CV] bootstrap=True, max_depth=90, min_samples_leaf=3, min_samples_split=10, n_estimators=100 \n",
            "[CV]  bootstrap=True, max_depth=90, min_samples_leaf=3, min_samples_split=10, n_estimators=100, total=   0.2s\n",
            "[CV] bootstrap=True, max_depth=90, min_samples_leaf=3, min_samples_split=10, n_estimators=200 \n",
            "[CV]  bootstrap=True, max_depth=90, min_samples_leaf=3, min_samples_split=10, n_estimators=200, total=   0.4s\n",
            "[CV] bootstrap=True, max_depth=90, min_samples_leaf=3, min_samples_split=10, n_estimators=200 \n",
            "[CV]  bootstrap=True, max_depth=90, min_samples_leaf=3, min_samples_split=10, n_estimators=200, total=   0.3s\n",
            "[CV] bootstrap=True, max_depth=90, min_samples_leaf=3, min_samples_split=10, n_estimators=200 \n",
            "[CV]  bootstrap=True, max_depth=90, min_samples_leaf=3, min_samples_split=10, n_estimators=200, total=   0.3s\n",
            "[CV] bootstrap=True, max_depth=90, min_samples_leaf=3, min_samples_split=10, n_estimators=300 \n",
            "[CV]  bootstrap=True, max_depth=90, min_samples_leaf=3, min_samples_split=10, n_estimators=300, total=   0.5s\n",
            "[CV] bootstrap=True, max_depth=90, min_samples_leaf=3, min_samples_split=10, n_estimators=300 \n",
            "[CV]  bootstrap=True, max_depth=90, min_samples_leaf=3, min_samples_split=10, n_estimators=300, total=   0.5s\n",
            "[CV] bootstrap=True, max_depth=90, min_samples_leaf=3, min_samples_split=10, n_estimators=300 \n",
            "[CV]  bootstrap=True, max_depth=90, min_samples_leaf=3, min_samples_split=10, n_estimators=300, total=   0.5s\n",
            "[CV] bootstrap=True, max_depth=90, min_samples_leaf=3, min_samples_split=10, n_estimators=1000 \n",
            "[CV]  bootstrap=True, max_depth=90, min_samples_leaf=3, min_samples_split=10, n_estimators=1000, total=   1.7s\n",
            "[CV] bootstrap=True, max_depth=90, min_samples_leaf=3, min_samples_split=10, n_estimators=1000 \n",
            "[CV]  bootstrap=True, max_depth=90, min_samples_leaf=3, min_samples_split=10, n_estimators=1000, total=   1.7s\n",
            "[CV] bootstrap=True, max_depth=90, min_samples_leaf=3, min_samples_split=10, n_estimators=1000 \n",
            "[CV]  bootstrap=True, max_depth=90, min_samples_leaf=3, min_samples_split=10, n_estimators=1000, total=   1.7s\n",
            "[CV] bootstrap=True, max_depth=90, min_samples_leaf=3, min_samples_split=12, n_estimators=100 \n",
            "[CV]  bootstrap=True, max_depth=90, min_samples_leaf=3, min_samples_split=12, n_estimators=100, total=   0.2s\n",
            "[CV] bootstrap=True, max_depth=90, min_samples_leaf=3, min_samples_split=12, n_estimators=100 \n",
            "[CV]  bootstrap=True, max_depth=90, min_samples_leaf=3, min_samples_split=12, n_estimators=100, total=   0.2s\n",
            "[CV] bootstrap=True, max_depth=90, min_samples_leaf=3, min_samples_split=12, n_estimators=100 \n",
            "[CV]  bootstrap=True, max_depth=90, min_samples_leaf=3, min_samples_split=12, n_estimators=100, total=   0.2s\n",
            "[CV] bootstrap=True, max_depth=90, min_samples_leaf=3, min_samples_split=12, n_estimators=200 \n",
            "[CV]  bootstrap=True, max_depth=90, min_samples_leaf=3, min_samples_split=12, n_estimators=200, total=   0.4s\n",
            "[CV] bootstrap=True, max_depth=90, min_samples_leaf=3, min_samples_split=12, n_estimators=200 \n",
            "[CV]  bootstrap=True, max_depth=90, min_samples_leaf=3, min_samples_split=12, n_estimators=200, total=   0.3s\n",
            "[CV] bootstrap=True, max_depth=90, min_samples_leaf=3, min_samples_split=12, n_estimators=200 \n",
            "[CV]  bootstrap=True, max_depth=90, min_samples_leaf=3, min_samples_split=12, n_estimators=200, total=   0.3s\n",
            "[CV] bootstrap=True, max_depth=90, min_samples_leaf=3, min_samples_split=12, n_estimators=300 \n",
            "[CV]  bootstrap=True, max_depth=90, min_samples_leaf=3, min_samples_split=12, n_estimators=300, total=   0.5s\n",
            "[CV] bootstrap=True, max_depth=90, min_samples_leaf=3, min_samples_split=12, n_estimators=300 \n",
            "[CV]  bootstrap=True, max_depth=90, min_samples_leaf=3, min_samples_split=12, n_estimators=300, total=   0.5s\n",
            "[CV] bootstrap=True, max_depth=90, min_samples_leaf=3, min_samples_split=12, n_estimators=300 \n",
            "[CV]  bootstrap=True, max_depth=90, min_samples_leaf=3, min_samples_split=12, n_estimators=300, total=   0.5s\n",
            "[CV] bootstrap=True, max_depth=90, min_samples_leaf=3, min_samples_split=12, n_estimators=1000 \n",
            "[CV]  bootstrap=True, max_depth=90, min_samples_leaf=3, min_samples_split=12, n_estimators=1000, total=   1.8s\n",
            "[CV] bootstrap=True, max_depth=90, min_samples_leaf=3, min_samples_split=12, n_estimators=1000 \n",
            "[CV]  bootstrap=True, max_depth=90, min_samples_leaf=3, min_samples_split=12, n_estimators=1000, total=   1.7s\n",
            "[CV] bootstrap=True, max_depth=90, min_samples_leaf=3, min_samples_split=12, n_estimators=1000 \n",
            "[CV]  bootstrap=True, max_depth=90, min_samples_leaf=3, min_samples_split=12, n_estimators=1000, total=   1.7s\n",
            "[CV] bootstrap=True, max_depth=90, min_samples_leaf=4, min_samples_split=8, n_estimators=100 \n",
            "[CV]  bootstrap=True, max_depth=90, min_samples_leaf=4, min_samples_split=8, n_estimators=100, total=   0.2s\n",
            "[CV] bootstrap=True, max_depth=90, min_samples_leaf=4, min_samples_split=8, n_estimators=100 \n",
            "[CV]  bootstrap=True, max_depth=90, min_samples_leaf=4, min_samples_split=8, n_estimators=100, total=   0.2s\n",
            "[CV] bootstrap=True, max_depth=90, min_samples_leaf=4, min_samples_split=8, n_estimators=100 \n",
            "[CV]  bootstrap=True, max_depth=90, min_samples_leaf=4, min_samples_split=8, n_estimators=100, total=   0.2s\n",
            "[CV] bootstrap=True, max_depth=90, min_samples_leaf=4, min_samples_split=8, n_estimators=200 \n",
            "[CV]  bootstrap=True, max_depth=90, min_samples_leaf=4, min_samples_split=8, n_estimators=200, total=   0.3s\n",
            "[CV] bootstrap=True, max_depth=90, min_samples_leaf=4, min_samples_split=8, n_estimators=200 \n",
            "[CV]  bootstrap=True, max_depth=90, min_samples_leaf=4, min_samples_split=8, n_estimators=200, total=   0.3s\n",
            "[CV] bootstrap=True, max_depth=90, min_samples_leaf=4, min_samples_split=8, n_estimators=200 \n",
            "[CV]  bootstrap=True, max_depth=90, min_samples_leaf=4, min_samples_split=8, n_estimators=200, total=   0.4s\n",
            "[CV] bootstrap=True, max_depth=90, min_samples_leaf=4, min_samples_split=8, n_estimators=300 \n",
            "[CV]  bootstrap=True, max_depth=90, min_samples_leaf=4, min_samples_split=8, n_estimators=300, total=   0.5s\n",
            "[CV] bootstrap=True, max_depth=90, min_samples_leaf=4, min_samples_split=8, n_estimators=300 \n",
            "[CV]  bootstrap=True, max_depth=90, min_samples_leaf=4, min_samples_split=8, n_estimators=300, total=   0.5s\n",
            "[CV] bootstrap=True, max_depth=90, min_samples_leaf=4, min_samples_split=8, n_estimators=300 \n",
            "[CV]  bootstrap=True, max_depth=90, min_samples_leaf=4, min_samples_split=8, n_estimators=300, total=   0.5s\n",
            "[CV] bootstrap=True, max_depth=90, min_samples_leaf=4, min_samples_split=8, n_estimators=1000 \n",
            "[CV]  bootstrap=True, max_depth=90, min_samples_leaf=4, min_samples_split=8, n_estimators=1000, total=   1.7s\n",
            "[CV] bootstrap=True, max_depth=90, min_samples_leaf=4, min_samples_split=8, n_estimators=1000 \n",
            "[CV]  bootstrap=True, max_depth=90, min_samples_leaf=4, min_samples_split=8, n_estimators=1000, total=   1.7s\n",
            "[CV] bootstrap=True, max_depth=90, min_samples_leaf=4, min_samples_split=8, n_estimators=1000 \n",
            "[CV]  bootstrap=True, max_depth=90, min_samples_leaf=4, min_samples_split=8, n_estimators=1000, total=   1.7s\n",
            "[CV] bootstrap=True, max_depth=90, min_samples_leaf=4, min_samples_split=10, n_estimators=100 \n",
            "[CV]  bootstrap=True, max_depth=90, min_samples_leaf=4, min_samples_split=10, n_estimators=100, total=   0.2s\n",
            "[CV] bootstrap=True, max_depth=90, min_samples_leaf=4, min_samples_split=10, n_estimators=100 \n",
            "[CV]  bootstrap=True, max_depth=90, min_samples_leaf=4, min_samples_split=10, n_estimators=100, total=   0.2s\n",
            "[CV] bootstrap=True, max_depth=90, min_samples_leaf=4, min_samples_split=10, n_estimators=100 \n",
            "[CV]  bootstrap=True, max_depth=90, min_samples_leaf=4, min_samples_split=10, n_estimators=100, total=   0.2s\n",
            "[CV] bootstrap=True, max_depth=90, min_samples_leaf=4, min_samples_split=10, n_estimators=200 \n",
            "[CV]  bootstrap=True, max_depth=90, min_samples_leaf=4, min_samples_split=10, n_estimators=200, total=   0.3s\n",
            "[CV] bootstrap=True, max_depth=90, min_samples_leaf=4, min_samples_split=10, n_estimators=200 \n",
            "[CV]  bootstrap=True, max_depth=90, min_samples_leaf=4, min_samples_split=10, n_estimators=200, total=   0.3s\n",
            "[CV] bootstrap=True, max_depth=90, min_samples_leaf=4, min_samples_split=10, n_estimators=200 \n",
            "[CV]  bootstrap=True, max_depth=90, min_samples_leaf=4, min_samples_split=10, n_estimators=200, total=   0.4s\n",
            "[CV] bootstrap=True, max_depth=90, min_samples_leaf=4, min_samples_split=10, n_estimators=300 \n",
            "[CV]  bootstrap=True, max_depth=90, min_samples_leaf=4, min_samples_split=10, n_estimators=300, total=   0.5s\n",
            "[CV] bootstrap=True, max_depth=90, min_samples_leaf=4, min_samples_split=10, n_estimators=300 \n",
            "[CV]  bootstrap=True, max_depth=90, min_samples_leaf=4, min_samples_split=10, n_estimators=300, total=   0.5s\n",
            "[CV] bootstrap=True, max_depth=90, min_samples_leaf=4, min_samples_split=10, n_estimators=300 \n",
            "[CV]  bootstrap=True, max_depth=90, min_samples_leaf=4, min_samples_split=10, n_estimators=300, total=   0.5s\n",
            "[CV] bootstrap=True, max_depth=90, min_samples_leaf=4, min_samples_split=10, n_estimators=1000 \n",
            "[CV]  bootstrap=True, max_depth=90, min_samples_leaf=4, min_samples_split=10, n_estimators=1000, total=   1.6s\n",
            "[CV] bootstrap=True, max_depth=90, min_samples_leaf=4, min_samples_split=10, n_estimators=1000 \n",
            "[CV]  bootstrap=True, max_depth=90, min_samples_leaf=4, min_samples_split=10, n_estimators=1000, total=   1.6s\n",
            "[CV] bootstrap=True, max_depth=90, min_samples_leaf=4, min_samples_split=10, n_estimators=1000 \n",
            "[CV]  bootstrap=True, max_depth=90, min_samples_leaf=4, min_samples_split=10, n_estimators=1000, total=   1.6s\n",
            "[CV] bootstrap=True, max_depth=90, min_samples_leaf=4, min_samples_split=12, n_estimators=100 \n",
            "[CV]  bootstrap=True, max_depth=90, min_samples_leaf=4, min_samples_split=12, n_estimators=100, total=   0.2s\n",
            "[CV] bootstrap=True, max_depth=90, min_samples_leaf=4, min_samples_split=12, n_estimators=100 \n",
            "[CV]  bootstrap=True, max_depth=90, min_samples_leaf=4, min_samples_split=12, n_estimators=100, total=   0.2s\n",
            "[CV] bootstrap=True, max_depth=90, min_samples_leaf=4, min_samples_split=12, n_estimators=100 \n",
            "[CV]  bootstrap=True, max_depth=90, min_samples_leaf=4, min_samples_split=12, n_estimators=100, total=   0.2s\n",
            "[CV] bootstrap=True, max_depth=90, min_samples_leaf=4, min_samples_split=12, n_estimators=200 \n",
            "[CV]  bootstrap=True, max_depth=90, min_samples_leaf=4, min_samples_split=12, n_estimators=200, total=   0.3s\n",
            "[CV] bootstrap=True, max_depth=90, min_samples_leaf=4, min_samples_split=12, n_estimators=200 \n",
            "[CV]  bootstrap=True, max_depth=90, min_samples_leaf=4, min_samples_split=12, n_estimators=200, total=   0.3s\n",
            "[CV] bootstrap=True, max_depth=90, min_samples_leaf=4, min_samples_split=12, n_estimators=200 \n",
            "[CV]  bootstrap=True, max_depth=90, min_samples_leaf=4, min_samples_split=12, n_estimators=200, total=   0.3s\n",
            "[CV] bootstrap=True, max_depth=90, min_samples_leaf=4, min_samples_split=12, n_estimators=300 \n",
            "[CV]  bootstrap=True, max_depth=90, min_samples_leaf=4, min_samples_split=12, n_estimators=300, total=   0.5s\n",
            "[CV] bootstrap=True, max_depth=90, min_samples_leaf=4, min_samples_split=12, n_estimators=300 \n",
            "[CV]  bootstrap=True, max_depth=90, min_samples_leaf=4, min_samples_split=12, n_estimators=300, total=   0.5s\n",
            "[CV] bootstrap=True, max_depth=90, min_samples_leaf=4, min_samples_split=12, n_estimators=300 \n",
            "[CV]  bootstrap=True, max_depth=90, min_samples_leaf=4, min_samples_split=12, n_estimators=300, total=   0.5s\n",
            "[CV] bootstrap=True, max_depth=90, min_samples_leaf=4, min_samples_split=12, n_estimators=1000 \n",
            "[CV]  bootstrap=True, max_depth=90, min_samples_leaf=4, min_samples_split=12, n_estimators=1000, total=   1.6s\n",
            "[CV] bootstrap=True, max_depth=90, min_samples_leaf=4, min_samples_split=12, n_estimators=1000 \n",
            "[CV]  bootstrap=True, max_depth=90, min_samples_leaf=4, min_samples_split=12, n_estimators=1000, total=   1.6s\n",
            "[CV] bootstrap=True, max_depth=90, min_samples_leaf=4, min_samples_split=12, n_estimators=1000 \n",
            "[CV]  bootstrap=True, max_depth=90, min_samples_leaf=4, min_samples_split=12, n_estimators=1000, total=   1.6s\n",
            "[CV] bootstrap=True, max_depth=90, min_samples_leaf=5, min_samples_split=8, n_estimators=100 \n",
            "[CV]  bootstrap=True, max_depth=90, min_samples_leaf=5, min_samples_split=8, n_estimators=100, total=   0.2s\n",
            "[CV] bootstrap=True, max_depth=90, min_samples_leaf=5, min_samples_split=8, n_estimators=100 \n",
            "[CV]  bootstrap=True, max_depth=90, min_samples_leaf=5, min_samples_split=8, n_estimators=100, total=   0.2s\n",
            "[CV] bootstrap=True, max_depth=90, min_samples_leaf=5, min_samples_split=8, n_estimators=100 \n",
            "[CV]  bootstrap=True, max_depth=90, min_samples_leaf=5, min_samples_split=8, n_estimators=100, total=   0.2s\n",
            "[CV] bootstrap=True, max_depth=90, min_samples_leaf=5, min_samples_split=8, n_estimators=200 \n",
            "[CV]  bootstrap=True, max_depth=90, min_samples_leaf=5, min_samples_split=8, n_estimators=200, total=   0.3s\n",
            "[CV] bootstrap=True, max_depth=90, min_samples_leaf=5, min_samples_split=8, n_estimators=200 \n",
            "[CV]  bootstrap=True, max_depth=90, min_samples_leaf=5, min_samples_split=8, n_estimators=200, total=   0.3s\n",
            "[CV] bootstrap=True, max_depth=90, min_samples_leaf=5, min_samples_split=8, n_estimators=200 \n",
            "[CV]  bootstrap=True, max_depth=90, min_samples_leaf=5, min_samples_split=8, n_estimators=200, total=   0.3s\n",
            "[CV] bootstrap=True, max_depth=90, min_samples_leaf=5, min_samples_split=8, n_estimators=300 \n",
            "[CV]  bootstrap=True, max_depth=90, min_samples_leaf=5, min_samples_split=8, n_estimators=300, total=   0.5s\n",
            "[CV] bootstrap=True, max_depth=90, min_samples_leaf=5, min_samples_split=8, n_estimators=300 \n",
            "[CV]  bootstrap=True, max_depth=90, min_samples_leaf=5, min_samples_split=8, n_estimators=300, total=   0.5s\n",
            "[CV] bootstrap=True, max_depth=90, min_samples_leaf=5, min_samples_split=8, n_estimators=300 \n",
            "[CV]  bootstrap=True, max_depth=90, min_samples_leaf=5, min_samples_split=8, n_estimators=300, total=   0.5s\n",
            "[CV] bootstrap=True, max_depth=90, min_samples_leaf=5, min_samples_split=8, n_estimators=1000 \n",
            "[CV]  bootstrap=True, max_depth=90, min_samples_leaf=5, min_samples_split=8, n_estimators=1000, total=   1.7s\n",
            "[CV] bootstrap=True, max_depth=90, min_samples_leaf=5, min_samples_split=8, n_estimators=1000 \n",
            "[CV]  bootstrap=True, max_depth=90, min_samples_leaf=5, min_samples_split=8, n_estimators=1000, total=   1.6s\n",
            "[CV] bootstrap=True, max_depth=90, min_samples_leaf=5, min_samples_split=8, n_estimators=1000 \n",
            "[CV]  bootstrap=True, max_depth=90, min_samples_leaf=5, min_samples_split=8, n_estimators=1000, total=   1.7s\n",
            "[CV] bootstrap=True, max_depth=90, min_samples_leaf=5, min_samples_split=10, n_estimators=100 \n",
            "[CV]  bootstrap=True, max_depth=90, min_samples_leaf=5, min_samples_split=10, n_estimators=100, total=   0.2s\n",
            "[CV] bootstrap=True, max_depth=90, min_samples_leaf=5, min_samples_split=10, n_estimators=100 \n",
            "[CV]  bootstrap=True, max_depth=90, min_samples_leaf=5, min_samples_split=10, n_estimators=100, total=   0.2s\n",
            "[CV] bootstrap=True, max_depth=90, min_samples_leaf=5, min_samples_split=10, n_estimators=100 \n",
            "[CV]  bootstrap=True, max_depth=90, min_samples_leaf=5, min_samples_split=10, n_estimators=100, total=   0.2s\n",
            "[CV] bootstrap=True, max_depth=90, min_samples_leaf=5, min_samples_split=10, n_estimators=200 \n",
            "[CV]  bootstrap=True, max_depth=90, min_samples_leaf=5, min_samples_split=10, n_estimators=200, total=   0.3s\n",
            "[CV] bootstrap=True, max_depth=90, min_samples_leaf=5, min_samples_split=10, n_estimators=200 \n",
            "[CV]  bootstrap=True, max_depth=90, min_samples_leaf=5, min_samples_split=10, n_estimators=200, total=   0.3s\n",
            "[CV] bootstrap=True, max_depth=90, min_samples_leaf=5, min_samples_split=10, n_estimators=200 \n",
            "[CV]  bootstrap=True, max_depth=90, min_samples_leaf=5, min_samples_split=10, n_estimators=200, total=   0.3s\n",
            "[CV] bootstrap=True, max_depth=90, min_samples_leaf=5, min_samples_split=10, n_estimators=300 \n",
            "[CV]  bootstrap=True, max_depth=90, min_samples_leaf=5, min_samples_split=10, n_estimators=300, total=   0.5s\n",
            "[CV] bootstrap=True, max_depth=90, min_samples_leaf=5, min_samples_split=10, n_estimators=300 \n",
            "[CV]  bootstrap=True, max_depth=90, min_samples_leaf=5, min_samples_split=10, n_estimators=300, total=   0.5s\n",
            "[CV] bootstrap=True, max_depth=90, min_samples_leaf=5, min_samples_split=10, n_estimators=300 \n",
            "[CV]  bootstrap=True, max_depth=90, min_samples_leaf=5, min_samples_split=10, n_estimators=300, total=   0.5s\n",
            "[CV] bootstrap=True, max_depth=90, min_samples_leaf=5, min_samples_split=10, n_estimators=1000 \n",
            "[CV]  bootstrap=True, max_depth=90, min_samples_leaf=5, min_samples_split=10, n_estimators=1000, total=   1.6s\n",
            "[CV] bootstrap=True, max_depth=90, min_samples_leaf=5, min_samples_split=10, n_estimators=1000 \n",
            "[CV]  bootstrap=True, max_depth=90, min_samples_leaf=5, min_samples_split=10, n_estimators=1000, total=   1.6s\n",
            "[CV] bootstrap=True, max_depth=90, min_samples_leaf=5, min_samples_split=10, n_estimators=1000 \n",
            "[CV]  bootstrap=True, max_depth=90, min_samples_leaf=5, min_samples_split=10, n_estimators=1000, total=   1.6s\n",
            "[CV] bootstrap=True, max_depth=90, min_samples_leaf=5, min_samples_split=12, n_estimators=100 \n",
            "[CV]  bootstrap=True, max_depth=90, min_samples_leaf=5, min_samples_split=12, n_estimators=100, total=   0.2s\n",
            "[CV] bootstrap=True, max_depth=90, min_samples_leaf=5, min_samples_split=12, n_estimators=100 \n",
            "[CV]  bootstrap=True, max_depth=90, min_samples_leaf=5, min_samples_split=12, n_estimators=100, total=   0.2s\n",
            "[CV] bootstrap=True, max_depth=90, min_samples_leaf=5, min_samples_split=12, n_estimators=100 \n",
            "[CV]  bootstrap=True, max_depth=90, min_samples_leaf=5, min_samples_split=12, n_estimators=100, total=   0.2s\n",
            "[CV] bootstrap=True, max_depth=90, min_samples_leaf=5, min_samples_split=12, n_estimators=200 \n",
            "[CV]  bootstrap=True, max_depth=90, min_samples_leaf=5, min_samples_split=12, n_estimators=200, total=   0.3s\n",
            "[CV] bootstrap=True, max_depth=90, min_samples_leaf=5, min_samples_split=12, n_estimators=200 \n",
            "[CV]  bootstrap=True, max_depth=90, min_samples_leaf=5, min_samples_split=12, n_estimators=200, total=   0.3s\n",
            "[CV] bootstrap=True, max_depth=90, min_samples_leaf=5, min_samples_split=12, n_estimators=200 \n",
            "[CV]  bootstrap=True, max_depth=90, min_samples_leaf=5, min_samples_split=12, n_estimators=200, total=   0.3s\n",
            "[CV] bootstrap=True, max_depth=90, min_samples_leaf=5, min_samples_split=12, n_estimators=300 \n",
            "[CV]  bootstrap=True, max_depth=90, min_samples_leaf=5, min_samples_split=12, n_estimators=300, total=   0.5s\n",
            "[CV] bootstrap=True, max_depth=90, min_samples_leaf=5, min_samples_split=12, n_estimators=300 \n",
            "[CV]  bootstrap=True, max_depth=90, min_samples_leaf=5, min_samples_split=12, n_estimators=300, total=   0.5s\n",
            "[CV] bootstrap=True, max_depth=90, min_samples_leaf=5, min_samples_split=12, n_estimators=300 \n",
            "[CV]  bootstrap=True, max_depth=90, min_samples_leaf=5, min_samples_split=12, n_estimators=300, total=   0.5s\n",
            "[CV] bootstrap=True, max_depth=90, min_samples_leaf=5, min_samples_split=12, n_estimators=1000 \n",
            "[CV]  bootstrap=True, max_depth=90, min_samples_leaf=5, min_samples_split=12, n_estimators=1000, total=   1.7s\n",
            "[CV] bootstrap=True, max_depth=90, min_samples_leaf=5, min_samples_split=12, n_estimators=1000 \n",
            "[CV]  bootstrap=True, max_depth=90, min_samples_leaf=5, min_samples_split=12, n_estimators=1000, total=   1.6s\n",
            "[CV] bootstrap=True, max_depth=90, min_samples_leaf=5, min_samples_split=12, n_estimators=1000 \n",
            "[CV]  bootstrap=True, max_depth=90, min_samples_leaf=5, min_samples_split=12, n_estimators=1000, total=   1.6s\n",
            "[CV] bootstrap=True, max_depth=100, min_samples_leaf=3, min_samples_split=8, n_estimators=100 \n",
            "[CV]  bootstrap=True, max_depth=100, min_samples_leaf=3, min_samples_split=8, n_estimators=100, total=   0.2s\n",
            "[CV] bootstrap=True, max_depth=100, min_samples_leaf=3, min_samples_split=8, n_estimators=100 \n",
            "[CV]  bootstrap=True, max_depth=100, min_samples_leaf=3, min_samples_split=8, n_estimators=100, total=   0.2s\n",
            "[CV] bootstrap=True, max_depth=100, min_samples_leaf=3, min_samples_split=8, n_estimators=100 \n",
            "[CV]  bootstrap=True, max_depth=100, min_samples_leaf=3, min_samples_split=8, n_estimators=100, total=   0.2s\n",
            "[CV] bootstrap=True, max_depth=100, min_samples_leaf=3, min_samples_split=8, n_estimators=200 \n",
            "[CV]  bootstrap=True, max_depth=100, min_samples_leaf=3, min_samples_split=8, n_estimators=200, total=   0.3s\n",
            "[CV] bootstrap=True, max_depth=100, min_samples_leaf=3, min_samples_split=8, n_estimators=200 \n",
            "[CV]  bootstrap=True, max_depth=100, min_samples_leaf=3, min_samples_split=8, n_estimators=200, total=   0.3s\n",
            "[CV] bootstrap=True, max_depth=100, min_samples_leaf=3, min_samples_split=8, n_estimators=200 \n",
            "[CV]  bootstrap=True, max_depth=100, min_samples_leaf=3, min_samples_split=8, n_estimators=200, total=   0.3s\n",
            "[CV] bootstrap=True, max_depth=100, min_samples_leaf=3, min_samples_split=8, n_estimators=300 \n",
            "[CV]  bootstrap=True, max_depth=100, min_samples_leaf=3, min_samples_split=8, n_estimators=300, total=   0.5s\n",
            "[CV] bootstrap=True, max_depth=100, min_samples_leaf=3, min_samples_split=8, n_estimators=300 \n",
            "[CV]  bootstrap=True, max_depth=100, min_samples_leaf=3, min_samples_split=8, n_estimators=300, total=   0.5s\n",
            "[CV] bootstrap=True, max_depth=100, min_samples_leaf=3, min_samples_split=8, n_estimators=300 \n",
            "[CV]  bootstrap=True, max_depth=100, min_samples_leaf=3, min_samples_split=8, n_estimators=300, total=   0.5s\n",
            "[CV] bootstrap=True, max_depth=100, min_samples_leaf=3, min_samples_split=8, n_estimators=1000 \n",
            "[CV]  bootstrap=True, max_depth=100, min_samples_leaf=3, min_samples_split=8, n_estimators=1000, total=   1.7s\n",
            "[CV] bootstrap=True, max_depth=100, min_samples_leaf=3, min_samples_split=8, n_estimators=1000 \n",
            "[CV]  bootstrap=True, max_depth=100, min_samples_leaf=3, min_samples_split=8, n_estimators=1000, total=   1.8s\n",
            "[CV] bootstrap=True, max_depth=100, min_samples_leaf=3, min_samples_split=8, n_estimators=1000 \n",
            "[CV]  bootstrap=True, max_depth=100, min_samples_leaf=3, min_samples_split=8, n_estimators=1000, total=   1.7s\n",
            "[CV] bootstrap=True, max_depth=100, min_samples_leaf=3, min_samples_split=10, n_estimators=100 \n",
            "[CV]  bootstrap=True, max_depth=100, min_samples_leaf=3, min_samples_split=10, n_estimators=100, total=   0.2s\n",
            "[CV] bootstrap=True, max_depth=100, min_samples_leaf=3, min_samples_split=10, n_estimators=100 \n",
            "[CV]  bootstrap=True, max_depth=100, min_samples_leaf=3, min_samples_split=10, n_estimators=100, total=   0.2s\n",
            "[CV] bootstrap=True, max_depth=100, min_samples_leaf=3, min_samples_split=10, n_estimators=100 \n",
            "[CV]  bootstrap=True, max_depth=100, min_samples_leaf=3, min_samples_split=10, n_estimators=100, total=   0.2s\n",
            "[CV] bootstrap=True, max_depth=100, min_samples_leaf=3, min_samples_split=10, n_estimators=200 \n",
            "[CV]  bootstrap=True, max_depth=100, min_samples_leaf=3, min_samples_split=10, n_estimators=200, total=   0.3s\n",
            "[CV] bootstrap=True, max_depth=100, min_samples_leaf=3, min_samples_split=10, n_estimators=200 \n",
            "[CV]  bootstrap=True, max_depth=100, min_samples_leaf=3, min_samples_split=10, n_estimators=200, total=   0.3s\n",
            "[CV] bootstrap=True, max_depth=100, min_samples_leaf=3, min_samples_split=10, n_estimators=200 \n",
            "[CV]  bootstrap=True, max_depth=100, min_samples_leaf=3, min_samples_split=10, n_estimators=200, total=   0.3s\n",
            "[CV] bootstrap=True, max_depth=100, min_samples_leaf=3, min_samples_split=10, n_estimators=300 \n",
            "[CV]  bootstrap=True, max_depth=100, min_samples_leaf=3, min_samples_split=10, n_estimators=300, total=   0.5s\n",
            "[CV] bootstrap=True, max_depth=100, min_samples_leaf=3, min_samples_split=10, n_estimators=300 \n",
            "[CV]  bootstrap=True, max_depth=100, min_samples_leaf=3, min_samples_split=10, n_estimators=300, total=   0.5s\n",
            "[CV] bootstrap=True, max_depth=100, min_samples_leaf=3, min_samples_split=10, n_estimators=300 \n",
            "[CV]  bootstrap=True, max_depth=100, min_samples_leaf=3, min_samples_split=10, n_estimators=300, total=   0.5s\n",
            "[CV] bootstrap=True, max_depth=100, min_samples_leaf=3, min_samples_split=10, n_estimators=1000 \n",
            "[CV]  bootstrap=True, max_depth=100, min_samples_leaf=3, min_samples_split=10, n_estimators=1000, total=   1.7s\n",
            "[CV] bootstrap=True, max_depth=100, min_samples_leaf=3, min_samples_split=10, n_estimators=1000 \n",
            "[CV]  bootstrap=True, max_depth=100, min_samples_leaf=3, min_samples_split=10, n_estimators=1000, total=   1.7s\n",
            "[CV] bootstrap=True, max_depth=100, min_samples_leaf=3, min_samples_split=10, n_estimators=1000 \n",
            "[CV]  bootstrap=True, max_depth=100, min_samples_leaf=3, min_samples_split=10, n_estimators=1000, total=   1.7s\n",
            "[CV] bootstrap=True, max_depth=100, min_samples_leaf=3, min_samples_split=12, n_estimators=100 \n",
            "[CV]  bootstrap=True, max_depth=100, min_samples_leaf=3, min_samples_split=12, n_estimators=100, total=   0.2s\n",
            "[CV] bootstrap=True, max_depth=100, min_samples_leaf=3, min_samples_split=12, n_estimators=100 \n",
            "[CV]  bootstrap=True, max_depth=100, min_samples_leaf=3, min_samples_split=12, n_estimators=100, total=   0.2s\n",
            "[CV] bootstrap=True, max_depth=100, min_samples_leaf=3, min_samples_split=12, n_estimators=100 \n",
            "[CV]  bootstrap=True, max_depth=100, min_samples_leaf=3, min_samples_split=12, n_estimators=100, total=   0.2s\n",
            "[CV] bootstrap=True, max_depth=100, min_samples_leaf=3, min_samples_split=12, n_estimators=200 \n",
            "[CV]  bootstrap=True, max_depth=100, min_samples_leaf=3, min_samples_split=12, n_estimators=200, total=   0.3s\n",
            "[CV] bootstrap=True, max_depth=100, min_samples_leaf=3, min_samples_split=12, n_estimators=200 \n",
            "[CV]  bootstrap=True, max_depth=100, min_samples_leaf=3, min_samples_split=12, n_estimators=200, total=   0.3s\n",
            "[CV] bootstrap=True, max_depth=100, min_samples_leaf=3, min_samples_split=12, n_estimators=200 \n",
            "[CV]  bootstrap=True, max_depth=100, min_samples_leaf=3, min_samples_split=12, n_estimators=200, total=   0.3s\n",
            "[CV] bootstrap=True, max_depth=100, min_samples_leaf=3, min_samples_split=12, n_estimators=300 \n",
            "[CV]  bootstrap=True, max_depth=100, min_samples_leaf=3, min_samples_split=12, n_estimators=300, total=   0.5s\n",
            "[CV] bootstrap=True, max_depth=100, min_samples_leaf=3, min_samples_split=12, n_estimators=300 \n",
            "[CV]  bootstrap=True, max_depth=100, min_samples_leaf=3, min_samples_split=12, n_estimators=300, total=   0.5s\n",
            "[CV] bootstrap=True, max_depth=100, min_samples_leaf=3, min_samples_split=12, n_estimators=300 \n",
            "[CV]  bootstrap=True, max_depth=100, min_samples_leaf=3, min_samples_split=12, n_estimators=300, total=   0.5s\n",
            "[CV] bootstrap=True, max_depth=100, min_samples_leaf=3, min_samples_split=12, n_estimators=1000 \n",
            "[CV]  bootstrap=True, max_depth=100, min_samples_leaf=3, min_samples_split=12, n_estimators=1000, total=   1.7s\n",
            "[CV] bootstrap=True, max_depth=100, min_samples_leaf=3, min_samples_split=12, n_estimators=1000 \n",
            "[CV]  bootstrap=True, max_depth=100, min_samples_leaf=3, min_samples_split=12, n_estimators=1000, total=   1.6s\n",
            "[CV] bootstrap=True, max_depth=100, min_samples_leaf=3, min_samples_split=12, n_estimators=1000 \n",
            "[CV]  bootstrap=True, max_depth=100, min_samples_leaf=3, min_samples_split=12, n_estimators=1000, total=   1.7s\n",
            "[CV] bootstrap=True, max_depth=100, min_samples_leaf=4, min_samples_split=8, n_estimators=100 \n",
            "[CV]  bootstrap=True, max_depth=100, min_samples_leaf=4, min_samples_split=8, n_estimators=100, total=   0.2s\n",
            "[CV] bootstrap=True, max_depth=100, min_samples_leaf=4, min_samples_split=8, n_estimators=100 \n",
            "[CV]  bootstrap=True, max_depth=100, min_samples_leaf=4, min_samples_split=8, n_estimators=100, total=   0.2s\n",
            "[CV] bootstrap=True, max_depth=100, min_samples_leaf=4, min_samples_split=8, n_estimators=100 \n",
            "[CV]  bootstrap=True, max_depth=100, min_samples_leaf=4, min_samples_split=8, n_estimators=100, total=   0.2s\n",
            "[CV] bootstrap=True, max_depth=100, min_samples_leaf=4, min_samples_split=8, n_estimators=200 \n",
            "[CV]  bootstrap=True, max_depth=100, min_samples_leaf=4, min_samples_split=8, n_estimators=200, total=   0.4s\n",
            "[CV] bootstrap=True, max_depth=100, min_samples_leaf=4, min_samples_split=8, n_estimators=200 \n",
            "[CV]  bootstrap=True, max_depth=100, min_samples_leaf=4, min_samples_split=8, n_estimators=200, total=   0.3s\n",
            "[CV] bootstrap=True, max_depth=100, min_samples_leaf=4, min_samples_split=8, n_estimators=200 \n",
            "[CV]  bootstrap=True, max_depth=100, min_samples_leaf=4, min_samples_split=8, n_estimators=200, total=   0.4s\n",
            "[CV] bootstrap=True, max_depth=100, min_samples_leaf=4, min_samples_split=8, n_estimators=300 \n",
            "[CV]  bootstrap=True, max_depth=100, min_samples_leaf=4, min_samples_split=8, n_estimators=300, total=   0.5s\n",
            "[CV] bootstrap=True, max_depth=100, min_samples_leaf=4, min_samples_split=8, n_estimators=300 \n",
            "[CV]  bootstrap=True, max_depth=100, min_samples_leaf=4, min_samples_split=8, n_estimators=300, total=   0.5s\n",
            "[CV] bootstrap=True, max_depth=100, min_samples_leaf=4, min_samples_split=8, n_estimators=300 \n",
            "[CV]  bootstrap=True, max_depth=100, min_samples_leaf=4, min_samples_split=8, n_estimators=300, total=   0.5s\n",
            "[CV] bootstrap=True, max_depth=100, min_samples_leaf=4, min_samples_split=8, n_estimators=1000 \n",
            "[CV]  bootstrap=True, max_depth=100, min_samples_leaf=4, min_samples_split=8, n_estimators=1000, total=   1.7s\n",
            "[CV] bootstrap=True, max_depth=100, min_samples_leaf=4, min_samples_split=8, n_estimators=1000 \n",
            "[CV]  bootstrap=True, max_depth=100, min_samples_leaf=4, min_samples_split=8, n_estimators=1000, total=   1.7s\n",
            "[CV] bootstrap=True, max_depth=100, min_samples_leaf=4, min_samples_split=8, n_estimators=1000 \n",
            "[CV]  bootstrap=True, max_depth=100, min_samples_leaf=4, min_samples_split=8, n_estimators=1000, total=   1.6s\n",
            "[CV] bootstrap=True, max_depth=100, min_samples_leaf=4, min_samples_split=10, n_estimators=100 \n",
            "[CV]  bootstrap=True, max_depth=100, min_samples_leaf=4, min_samples_split=10, n_estimators=100, total=   0.2s\n",
            "[CV] bootstrap=True, max_depth=100, min_samples_leaf=4, min_samples_split=10, n_estimators=100 \n",
            "[CV]  bootstrap=True, max_depth=100, min_samples_leaf=4, min_samples_split=10, n_estimators=100, total=   0.2s\n",
            "[CV] bootstrap=True, max_depth=100, min_samples_leaf=4, min_samples_split=10, n_estimators=100 \n",
            "[CV]  bootstrap=True, max_depth=100, min_samples_leaf=4, min_samples_split=10, n_estimators=100, total=   0.2s\n",
            "[CV] bootstrap=True, max_depth=100, min_samples_leaf=4, min_samples_split=10, n_estimators=200 \n",
            "[CV]  bootstrap=True, max_depth=100, min_samples_leaf=4, min_samples_split=10, n_estimators=200, total=   0.3s\n",
            "[CV] bootstrap=True, max_depth=100, min_samples_leaf=4, min_samples_split=10, n_estimators=200 \n",
            "[CV]  bootstrap=True, max_depth=100, min_samples_leaf=4, min_samples_split=10, n_estimators=200, total=   0.3s\n",
            "[CV] bootstrap=True, max_depth=100, min_samples_leaf=4, min_samples_split=10, n_estimators=200 \n",
            "[CV]  bootstrap=True, max_depth=100, min_samples_leaf=4, min_samples_split=10, n_estimators=200, total=   0.3s\n",
            "[CV] bootstrap=True, max_depth=100, min_samples_leaf=4, min_samples_split=10, n_estimators=300 \n",
            "[CV]  bootstrap=True, max_depth=100, min_samples_leaf=4, min_samples_split=10, n_estimators=300, total=   0.5s\n",
            "[CV] bootstrap=True, max_depth=100, min_samples_leaf=4, min_samples_split=10, n_estimators=300 \n",
            "[CV]  bootstrap=True, max_depth=100, min_samples_leaf=4, min_samples_split=10, n_estimators=300, total=   0.5s\n",
            "[CV] bootstrap=True, max_depth=100, min_samples_leaf=4, min_samples_split=10, n_estimators=300 \n",
            "[CV]  bootstrap=True, max_depth=100, min_samples_leaf=4, min_samples_split=10, n_estimators=300, total=   0.5s\n",
            "[CV] bootstrap=True, max_depth=100, min_samples_leaf=4, min_samples_split=10, n_estimators=1000 \n",
            "[CV]  bootstrap=True, max_depth=100, min_samples_leaf=4, min_samples_split=10, n_estimators=1000, total=   1.6s\n",
            "[CV] bootstrap=True, max_depth=100, min_samples_leaf=4, min_samples_split=10, n_estimators=1000 \n",
            "[CV]  bootstrap=True, max_depth=100, min_samples_leaf=4, min_samples_split=10, n_estimators=1000, total=   1.6s\n",
            "[CV] bootstrap=True, max_depth=100, min_samples_leaf=4, min_samples_split=10, n_estimators=1000 \n",
            "[CV]  bootstrap=True, max_depth=100, min_samples_leaf=4, min_samples_split=10, n_estimators=1000, total=   1.7s\n",
            "[CV] bootstrap=True, max_depth=100, min_samples_leaf=4, min_samples_split=12, n_estimators=100 \n",
            "[CV]  bootstrap=True, max_depth=100, min_samples_leaf=4, min_samples_split=12, n_estimators=100, total=   0.2s\n",
            "[CV] bootstrap=True, max_depth=100, min_samples_leaf=4, min_samples_split=12, n_estimators=100 \n",
            "[CV]  bootstrap=True, max_depth=100, min_samples_leaf=4, min_samples_split=12, n_estimators=100, total=   0.2s\n",
            "[CV] bootstrap=True, max_depth=100, min_samples_leaf=4, min_samples_split=12, n_estimators=100 \n",
            "[CV]  bootstrap=True, max_depth=100, min_samples_leaf=4, min_samples_split=12, n_estimators=100, total=   0.2s\n",
            "[CV] bootstrap=True, max_depth=100, min_samples_leaf=4, min_samples_split=12, n_estimators=200 \n",
            "[CV]  bootstrap=True, max_depth=100, min_samples_leaf=4, min_samples_split=12, n_estimators=200, total=   0.3s\n",
            "[CV] bootstrap=True, max_depth=100, min_samples_leaf=4, min_samples_split=12, n_estimators=200 \n",
            "[CV]  bootstrap=True, max_depth=100, min_samples_leaf=4, min_samples_split=12, n_estimators=200, total=   0.3s\n",
            "[CV] bootstrap=True, max_depth=100, min_samples_leaf=4, min_samples_split=12, n_estimators=200 \n",
            "[CV]  bootstrap=True, max_depth=100, min_samples_leaf=4, min_samples_split=12, n_estimators=200, total=   0.3s\n",
            "[CV] bootstrap=True, max_depth=100, min_samples_leaf=4, min_samples_split=12, n_estimators=300 \n",
            "[CV]  bootstrap=True, max_depth=100, min_samples_leaf=4, min_samples_split=12, n_estimators=300, total=   0.5s\n",
            "[CV] bootstrap=True, max_depth=100, min_samples_leaf=4, min_samples_split=12, n_estimators=300 \n",
            "[CV]  bootstrap=True, max_depth=100, min_samples_leaf=4, min_samples_split=12, n_estimators=300, total=   0.5s\n",
            "[CV] bootstrap=True, max_depth=100, min_samples_leaf=4, min_samples_split=12, n_estimators=300 \n",
            "[CV]  bootstrap=True, max_depth=100, min_samples_leaf=4, min_samples_split=12, n_estimators=300, total=   0.5s\n",
            "[CV] bootstrap=True, max_depth=100, min_samples_leaf=4, min_samples_split=12, n_estimators=1000 \n",
            "[CV]  bootstrap=True, max_depth=100, min_samples_leaf=4, min_samples_split=12, n_estimators=1000, total=   1.7s\n",
            "[CV] bootstrap=True, max_depth=100, min_samples_leaf=4, min_samples_split=12, n_estimators=1000 \n",
            "[CV]  bootstrap=True, max_depth=100, min_samples_leaf=4, min_samples_split=12, n_estimators=1000, total=   1.6s\n",
            "[CV] bootstrap=True, max_depth=100, min_samples_leaf=4, min_samples_split=12, n_estimators=1000 \n",
            "[CV]  bootstrap=True, max_depth=100, min_samples_leaf=4, min_samples_split=12, n_estimators=1000, total=   1.6s\n",
            "[CV] bootstrap=True, max_depth=100, min_samples_leaf=5, min_samples_split=8, n_estimators=100 \n",
            "[CV]  bootstrap=True, max_depth=100, min_samples_leaf=5, min_samples_split=8, n_estimators=100, total=   0.2s\n",
            "[CV] bootstrap=True, max_depth=100, min_samples_leaf=5, min_samples_split=8, n_estimators=100 \n",
            "[CV]  bootstrap=True, max_depth=100, min_samples_leaf=5, min_samples_split=8, n_estimators=100, total=   0.2s\n",
            "[CV] bootstrap=True, max_depth=100, min_samples_leaf=5, min_samples_split=8, n_estimators=100 \n",
            "[CV]  bootstrap=True, max_depth=100, min_samples_leaf=5, min_samples_split=8, n_estimators=100, total=   0.2s\n",
            "[CV] bootstrap=True, max_depth=100, min_samples_leaf=5, min_samples_split=8, n_estimators=200 \n",
            "[CV]  bootstrap=True, max_depth=100, min_samples_leaf=5, min_samples_split=8, n_estimators=200, total=   0.4s\n",
            "[CV] bootstrap=True, max_depth=100, min_samples_leaf=5, min_samples_split=8, n_estimators=200 \n",
            "[CV]  bootstrap=True, max_depth=100, min_samples_leaf=5, min_samples_split=8, n_estimators=200, total=   0.4s\n",
            "[CV] bootstrap=True, max_depth=100, min_samples_leaf=5, min_samples_split=8, n_estimators=200 \n",
            "[CV]  bootstrap=True, max_depth=100, min_samples_leaf=5, min_samples_split=8, n_estimators=200, total=   0.4s\n",
            "[CV] bootstrap=True, max_depth=100, min_samples_leaf=5, min_samples_split=8, n_estimators=300 \n",
            "[CV]  bootstrap=True, max_depth=100, min_samples_leaf=5, min_samples_split=8, n_estimators=300, total=   0.5s\n",
            "[CV] bootstrap=True, max_depth=100, min_samples_leaf=5, min_samples_split=8, n_estimators=300 \n",
            "[CV]  bootstrap=True, max_depth=100, min_samples_leaf=5, min_samples_split=8, n_estimators=300, total=   0.5s\n",
            "[CV] bootstrap=True, max_depth=100, min_samples_leaf=5, min_samples_split=8, n_estimators=300 \n",
            "[CV]  bootstrap=True, max_depth=100, min_samples_leaf=5, min_samples_split=8, n_estimators=300, total=   0.5s\n",
            "[CV] bootstrap=True, max_depth=100, min_samples_leaf=5, min_samples_split=8, n_estimators=1000 \n",
            "[CV]  bootstrap=True, max_depth=100, min_samples_leaf=5, min_samples_split=8, n_estimators=1000, total=   1.6s\n",
            "[CV] bootstrap=True, max_depth=100, min_samples_leaf=5, min_samples_split=8, n_estimators=1000 \n",
            "[CV]  bootstrap=True, max_depth=100, min_samples_leaf=5, min_samples_split=8, n_estimators=1000, total=   1.6s\n",
            "[CV] bootstrap=True, max_depth=100, min_samples_leaf=5, min_samples_split=8, n_estimators=1000 \n",
            "[CV]  bootstrap=True, max_depth=100, min_samples_leaf=5, min_samples_split=8, n_estimators=1000, total=   1.6s\n",
            "[CV] bootstrap=True, max_depth=100, min_samples_leaf=5, min_samples_split=10, n_estimators=100 \n",
            "[CV]  bootstrap=True, max_depth=100, min_samples_leaf=5, min_samples_split=10, n_estimators=100, total=   0.2s\n",
            "[CV] bootstrap=True, max_depth=100, min_samples_leaf=5, min_samples_split=10, n_estimators=100 \n",
            "[CV]  bootstrap=True, max_depth=100, min_samples_leaf=5, min_samples_split=10, n_estimators=100, total=   0.2s\n",
            "[CV] bootstrap=True, max_depth=100, min_samples_leaf=5, min_samples_split=10, n_estimators=100 \n",
            "[CV]  bootstrap=True, max_depth=100, min_samples_leaf=5, min_samples_split=10, n_estimators=100, total=   0.2s\n",
            "[CV] bootstrap=True, max_depth=100, min_samples_leaf=5, min_samples_split=10, n_estimators=200 \n",
            "[CV]  bootstrap=True, max_depth=100, min_samples_leaf=5, min_samples_split=10, n_estimators=200, total=   0.3s\n",
            "[CV] bootstrap=True, max_depth=100, min_samples_leaf=5, min_samples_split=10, n_estimators=200 \n",
            "[CV]  bootstrap=True, max_depth=100, min_samples_leaf=5, min_samples_split=10, n_estimators=200, total=   0.3s\n",
            "[CV] bootstrap=True, max_depth=100, min_samples_leaf=5, min_samples_split=10, n_estimators=200 \n",
            "[CV]  bootstrap=True, max_depth=100, min_samples_leaf=5, min_samples_split=10, n_estimators=200, total=   0.3s\n",
            "[CV] bootstrap=True, max_depth=100, min_samples_leaf=5, min_samples_split=10, n_estimators=300 \n",
            "[CV]  bootstrap=True, max_depth=100, min_samples_leaf=5, min_samples_split=10, n_estimators=300, total=   0.5s\n",
            "[CV] bootstrap=True, max_depth=100, min_samples_leaf=5, min_samples_split=10, n_estimators=300 \n",
            "[CV]  bootstrap=True, max_depth=100, min_samples_leaf=5, min_samples_split=10, n_estimators=300, total=   0.5s\n",
            "[CV] bootstrap=True, max_depth=100, min_samples_leaf=5, min_samples_split=10, n_estimators=300 \n",
            "[CV]  bootstrap=True, max_depth=100, min_samples_leaf=5, min_samples_split=10, n_estimators=300, total=   0.5s\n",
            "[CV] bootstrap=True, max_depth=100, min_samples_leaf=5, min_samples_split=10, n_estimators=1000 \n",
            "[CV]  bootstrap=True, max_depth=100, min_samples_leaf=5, min_samples_split=10, n_estimators=1000, total=   1.6s\n",
            "[CV] bootstrap=True, max_depth=100, min_samples_leaf=5, min_samples_split=10, n_estimators=1000 \n",
            "[CV]  bootstrap=True, max_depth=100, min_samples_leaf=5, min_samples_split=10, n_estimators=1000, total=   1.6s\n",
            "[CV] bootstrap=True, max_depth=100, min_samples_leaf=5, min_samples_split=10, n_estimators=1000 \n",
            "[CV]  bootstrap=True, max_depth=100, min_samples_leaf=5, min_samples_split=10, n_estimators=1000, total=   1.6s\n",
            "[CV] bootstrap=True, max_depth=100, min_samples_leaf=5, min_samples_split=12, n_estimators=100 \n",
            "[CV]  bootstrap=True, max_depth=100, min_samples_leaf=5, min_samples_split=12, n_estimators=100, total=   0.2s\n",
            "[CV] bootstrap=True, max_depth=100, min_samples_leaf=5, min_samples_split=12, n_estimators=100 \n",
            "[CV]  bootstrap=True, max_depth=100, min_samples_leaf=5, min_samples_split=12, n_estimators=100, total=   0.2s\n",
            "[CV] bootstrap=True, max_depth=100, min_samples_leaf=5, min_samples_split=12, n_estimators=100 \n",
            "[CV]  bootstrap=True, max_depth=100, min_samples_leaf=5, min_samples_split=12, n_estimators=100, total=   0.2s\n",
            "[CV] bootstrap=True, max_depth=100, min_samples_leaf=5, min_samples_split=12, n_estimators=200 \n",
            "[CV]  bootstrap=True, max_depth=100, min_samples_leaf=5, min_samples_split=12, n_estimators=200, total=   0.3s\n",
            "[CV] bootstrap=True, max_depth=100, min_samples_leaf=5, min_samples_split=12, n_estimators=200 \n",
            "[CV]  bootstrap=True, max_depth=100, min_samples_leaf=5, min_samples_split=12, n_estimators=200, total=   0.3s\n",
            "[CV] bootstrap=True, max_depth=100, min_samples_leaf=5, min_samples_split=12, n_estimators=200 \n",
            "[CV]  bootstrap=True, max_depth=100, min_samples_leaf=5, min_samples_split=12, n_estimators=200, total=   0.3s\n",
            "[CV] bootstrap=True, max_depth=100, min_samples_leaf=5, min_samples_split=12, n_estimators=300 \n",
            "[CV]  bootstrap=True, max_depth=100, min_samples_leaf=5, min_samples_split=12, n_estimators=300, total=   0.5s\n",
            "[CV] bootstrap=True, max_depth=100, min_samples_leaf=5, min_samples_split=12, n_estimators=300 \n",
            "[CV]  bootstrap=True, max_depth=100, min_samples_leaf=5, min_samples_split=12, n_estimators=300, total=   0.5s\n",
            "[CV] bootstrap=True, max_depth=100, min_samples_leaf=5, min_samples_split=12, n_estimators=300 \n",
            "[CV]  bootstrap=True, max_depth=100, min_samples_leaf=5, min_samples_split=12, n_estimators=300, total=   0.5s\n",
            "[CV] bootstrap=True, max_depth=100, min_samples_leaf=5, min_samples_split=12, n_estimators=1000 \n",
            "[CV]  bootstrap=True, max_depth=100, min_samples_leaf=5, min_samples_split=12, n_estimators=1000, total=   1.7s\n",
            "[CV] bootstrap=True, max_depth=100, min_samples_leaf=5, min_samples_split=12, n_estimators=1000 \n",
            "[CV]  bootstrap=True, max_depth=100, min_samples_leaf=5, min_samples_split=12, n_estimators=1000, total=   1.6s\n",
            "[CV] bootstrap=True, max_depth=100, min_samples_leaf=5, min_samples_split=12, n_estimators=1000 \n",
            "[CV]  bootstrap=True, max_depth=100, min_samples_leaf=5, min_samples_split=12, n_estimators=1000, total=   1.7s\n",
            "[CV] bootstrap=True, max_depth=110, min_samples_leaf=3, min_samples_split=8, n_estimators=100 \n",
            "[CV]  bootstrap=True, max_depth=110, min_samples_leaf=3, min_samples_split=8, n_estimators=100, total=   0.2s\n",
            "[CV] bootstrap=True, max_depth=110, min_samples_leaf=3, min_samples_split=8, n_estimators=100 \n",
            "[CV]  bootstrap=True, max_depth=110, min_samples_leaf=3, min_samples_split=8, n_estimators=100, total=   0.2s\n",
            "[CV] bootstrap=True, max_depth=110, min_samples_leaf=3, min_samples_split=8, n_estimators=100 \n",
            "[CV]  bootstrap=True, max_depth=110, min_samples_leaf=3, min_samples_split=8, n_estimators=100, total=   0.2s\n",
            "[CV] bootstrap=True, max_depth=110, min_samples_leaf=3, min_samples_split=8, n_estimators=200 \n",
            "[CV]  bootstrap=True, max_depth=110, min_samples_leaf=3, min_samples_split=8, n_estimators=200, total=   0.3s\n",
            "[CV] bootstrap=True, max_depth=110, min_samples_leaf=3, min_samples_split=8, n_estimators=200 \n",
            "[CV]  bootstrap=True, max_depth=110, min_samples_leaf=3, min_samples_split=8, n_estimators=200, total=   0.4s\n",
            "[CV] bootstrap=True, max_depth=110, min_samples_leaf=3, min_samples_split=8, n_estimators=200 \n",
            "[CV]  bootstrap=True, max_depth=110, min_samples_leaf=3, min_samples_split=8, n_estimators=200, total=   0.3s\n",
            "[CV] bootstrap=True, max_depth=110, min_samples_leaf=3, min_samples_split=8, n_estimators=300 \n",
            "[CV]  bootstrap=True, max_depth=110, min_samples_leaf=3, min_samples_split=8, n_estimators=300, total=   0.5s\n",
            "[CV] bootstrap=True, max_depth=110, min_samples_leaf=3, min_samples_split=8, n_estimators=300 \n",
            "[CV]  bootstrap=True, max_depth=110, min_samples_leaf=3, min_samples_split=8, n_estimators=300, total=   0.5s\n",
            "[CV] bootstrap=True, max_depth=110, min_samples_leaf=3, min_samples_split=8, n_estimators=300 \n",
            "[CV]  bootstrap=True, max_depth=110, min_samples_leaf=3, min_samples_split=8, n_estimators=300, total=   0.5s\n",
            "[CV] bootstrap=True, max_depth=110, min_samples_leaf=3, min_samples_split=8, n_estimators=1000 \n",
            "[CV]  bootstrap=True, max_depth=110, min_samples_leaf=3, min_samples_split=8, n_estimators=1000, total=   1.7s\n",
            "[CV] bootstrap=True, max_depth=110, min_samples_leaf=3, min_samples_split=8, n_estimators=1000 \n",
            "[CV]  bootstrap=True, max_depth=110, min_samples_leaf=3, min_samples_split=8, n_estimators=1000, total=   1.7s\n",
            "[CV] bootstrap=True, max_depth=110, min_samples_leaf=3, min_samples_split=8, n_estimators=1000 \n",
            "[CV]  bootstrap=True, max_depth=110, min_samples_leaf=3, min_samples_split=8, n_estimators=1000, total=   1.7s\n",
            "[CV] bootstrap=True, max_depth=110, min_samples_leaf=3, min_samples_split=10, n_estimators=100 \n",
            "[CV]  bootstrap=True, max_depth=110, min_samples_leaf=3, min_samples_split=10, n_estimators=100, total=   0.2s\n",
            "[CV] bootstrap=True, max_depth=110, min_samples_leaf=3, min_samples_split=10, n_estimators=100 \n",
            "[CV]  bootstrap=True, max_depth=110, min_samples_leaf=3, min_samples_split=10, n_estimators=100, total=   0.2s\n",
            "[CV] bootstrap=True, max_depth=110, min_samples_leaf=3, min_samples_split=10, n_estimators=100 \n",
            "[CV]  bootstrap=True, max_depth=110, min_samples_leaf=3, min_samples_split=10, n_estimators=100, total=   0.2s\n",
            "[CV] bootstrap=True, max_depth=110, min_samples_leaf=3, min_samples_split=10, n_estimators=200 \n",
            "[CV]  bootstrap=True, max_depth=110, min_samples_leaf=3, min_samples_split=10, n_estimators=200, total=   0.4s\n",
            "[CV] bootstrap=True, max_depth=110, min_samples_leaf=3, min_samples_split=10, n_estimators=200 \n",
            "[CV]  bootstrap=True, max_depth=110, min_samples_leaf=3, min_samples_split=10, n_estimators=200, total=   0.3s\n",
            "[CV] bootstrap=True, max_depth=110, min_samples_leaf=3, min_samples_split=10, n_estimators=200 \n",
            "[CV]  bootstrap=True, max_depth=110, min_samples_leaf=3, min_samples_split=10, n_estimators=200, total=   0.3s\n",
            "[CV] bootstrap=True, max_depth=110, min_samples_leaf=3, min_samples_split=10, n_estimators=300 \n",
            "[CV]  bootstrap=True, max_depth=110, min_samples_leaf=3, min_samples_split=10, n_estimators=300, total=   0.5s\n",
            "[CV] bootstrap=True, max_depth=110, min_samples_leaf=3, min_samples_split=10, n_estimators=300 \n",
            "[CV]  bootstrap=True, max_depth=110, min_samples_leaf=3, min_samples_split=10, n_estimators=300, total=   0.5s\n",
            "[CV] bootstrap=True, max_depth=110, min_samples_leaf=3, min_samples_split=10, n_estimators=300 \n",
            "[CV]  bootstrap=True, max_depth=110, min_samples_leaf=3, min_samples_split=10, n_estimators=300, total=   0.5s\n",
            "[CV] bootstrap=True, max_depth=110, min_samples_leaf=3, min_samples_split=10, n_estimators=1000 \n",
            "[CV]  bootstrap=True, max_depth=110, min_samples_leaf=3, min_samples_split=10, n_estimators=1000, total=   1.6s\n",
            "[CV] bootstrap=True, max_depth=110, min_samples_leaf=3, min_samples_split=10, n_estimators=1000 \n",
            "[CV]  bootstrap=True, max_depth=110, min_samples_leaf=3, min_samples_split=10, n_estimators=1000, total=   1.6s\n",
            "[CV] bootstrap=True, max_depth=110, min_samples_leaf=3, min_samples_split=10, n_estimators=1000 \n",
            "[CV]  bootstrap=True, max_depth=110, min_samples_leaf=3, min_samples_split=10, n_estimators=1000, total=   1.7s\n",
            "[CV] bootstrap=True, max_depth=110, min_samples_leaf=3, min_samples_split=12, n_estimators=100 \n",
            "[CV]  bootstrap=True, max_depth=110, min_samples_leaf=3, min_samples_split=12, n_estimators=100, total=   0.2s\n",
            "[CV] bootstrap=True, max_depth=110, min_samples_leaf=3, min_samples_split=12, n_estimators=100 \n",
            "[CV]  bootstrap=True, max_depth=110, min_samples_leaf=3, min_samples_split=12, n_estimators=100, total=   0.2s\n",
            "[CV] bootstrap=True, max_depth=110, min_samples_leaf=3, min_samples_split=12, n_estimators=100 \n",
            "[CV]  bootstrap=True, max_depth=110, min_samples_leaf=3, min_samples_split=12, n_estimators=100, total=   0.2s\n",
            "[CV] bootstrap=True, max_depth=110, min_samples_leaf=3, min_samples_split=12, n_estimators=200 \n",
            "[CV]  bootstrap=True, max_depth=110, min_samples_leaf=3, min_samples_split=12, n_estimators=200, total=   0.4s\n",
            "[CV] bootstrap=True, max_depth=110, min_samples_leaf=3, min_samples_split=12, n_estimators=200 \n",
            "[CV]  bootstrap=True, max_depth=110, min_samples_leaf=3, min_samples_split=12, n_estimators=200, total=   0.3s\n",
            "[CV] bootstrap=True, max_depth=110, min_samples_leaf=3, min_samples_split=12, n_estimators=200 \n",
            "[CV]  bootstrap=True, max_depth=110, min_samples_leaf=3, min_samples_split=12, n_estimators=200, total=   0.3s\n",
            "[CV] bootstrap=True, max_depth=110, min_samples_leaf=3, min_samples_split=12, n_estimators=300 \n",
            "[CV]  bootstrap=True, max_depth=110, min_samples_leaf=3, min_samples_split=12, n_estimators=300, total=   0.5s\n",
            "[CV] bootstrap=True, max_depth=110, min_samples_leaf=3, min_samples_split=12, n_estimators=300 \n",
            "[CV]  bootstrap=True, max_depth=110, min_samples_leaf=3, min_samples_split=12, n_estimators=300, total=   0.5s\n",
            "[CV] bootstrap=True, max_depth=110, min_samples_leaf=3, min_samples_split=12, n_estimators=300 \n",
            "[CV]  bootstrap=True, max_depth=110, min_samples_leaf=3, min_samples_split=12, n_estimators=300, total=   0.5s\n",
            "[CV] bootstrap=True, max_depth=110, min_samples_leaf=3, min_samples_split=12, n_estimators=1000 \n",
            "[CV]  bootstrap=True, max_depth=110, min_samples_leaf=3, min_samples_split=12, n_estimators=1000, total=   1.7s\n",
            "[CV] bootstrap=True, max_depth=110, min_samples_leaf=3, min_samples_split=12, n_estimators=1000 \n",
            "[CV]  bootstrap=True, max_depth=110, min_samples_leaf=3, min_samples_split=12, n_estimators=1000, total=   1.6s\n",
            "[CV] bootstrap=True, max_depth=110, min_samples_leaf=3, min_samples_split=12, n_estimators=1000 \n",
            "[CV]  bootstrap=True, max_depth=110, min_samples_leaf=3, min_samples_split=12, n_estimators=1000, total=   1.6s\n",
            "[CV] bootstrap=True, max_depth=110, min_samples_leaf=4, min_samples_split=8, n_estimators=100 \n",
            "[CV]  bootstrap=True, max_depth=110, min_samples_leaf=4, min_samples_split=8, n_estimators=100, total=   0.2s\n",
            "[CV] bootstrap=True, max_depth=110, min_samples_leaf=4, min_samples_split=8, n_estimators=100 \n",
            "[CV]  bootstrap=True, max_depth=110, min_samples_leaf=4, min_samples_split=8, n_estimators=100, total=   0.2s\n",
            "[CV] bootstrap=True, max_depth=110, min_samples_leaf=4, min_samples_split=8, n_estimators=100 \n",
            "[CV]  bootstrap=True, max_depth=110, min_samples_leaf=4, min_samples_split=8, n_estimators=100, total=   0.2s\n",
            "[CV] bootstrap=True, max_depth=110, min_samples_leaf=4, min_samples_split=8, n_estimators=200 \n",
            "[CV]  bootstrap=True, max_depth=110, min_samples_leaf=4, min_samples_split=8, n_estimators=200, total=   0.4s\n",
            "[CV] bootstrap=True, max_depth=110, min_samples_leaf=4, min_samples_split=8, n_estimators=200 \n",
            "[CV]  bootstrap=True, max_depth=110, min_samples_leaf=4, min_samples_split=8, n_estimators=200, total=   0.3s\n",
            "[CV] bootstrap=True, max_depth=110, min_samples_leaf=4, min_samples_split=8, n_estimators=200 \n",
            "[CV]  bootstrap=True, max_depth=110, min_samples_leaf=4, min_samples_split=8, n_estimators=200, total=   0.3s\n",
            "[CV] bootstrap=True, max_depth=110, min_samples_leaf=4, min_samples_split=8, n_estimators=300 \n",
            "[CV]  bootstrap=True, max_depth=110, min_samples_leaf=4, min_samples_split=8, n_estimators=300, total=   0.5s\n",
            "[CV] bootstrap=True, max_depth=110, min_samples_leaf=4, min_samples_split=8, n_estimators=300 \n",
            "[CV]  bootstrap=True, max_depth=110, min_samples_leaf=4, min_samples_split=8, n_estimators=300, total=   0.5s\n",
            "[CV] bootstrap=True, max_depth=110, min_samples_leaf=4, min_samples_split=8, n_estimators=300 \n",
            "[CV]  bootstrap=True, max_depth=110, min_samples_leaf=4, min_samples_split=8, n_estimators=300, total=   0.5s\n",
            "[CV] bootstrap=True, max_depth=110, min_samples_leaf=4, min_samples_split=8, n_estimators=1000 \n",
            "[CV]  bootstrap=True, max_depth=110, min_samples_leaf=4, min_samples_split=8, n_estimators=1000, total=   1.6s\n",
            "[CV] bootstrap=True, max_depth=110, min_samples_leaf=4, min_samples_split=8, n_estimators=1000 \n",
            "[CV]  bootstrap=True, max_depth=110, min_samples_leaf=4, min_samples_split=8, n_estimators=1000, total=   1.6s\n",
            "[CV] bootstrap=True, max_depth=110, min_samples_leaf=4, min_samples_split=8, n_estimators=1000 \n",
            "[CV]  bootstrap=True, max_depth=110, min_samples_leaf=4, min_samples_split=8, n_estimators=1000, total=   1.6s\n",
            "[CV] bootstrap=True, max_depth=110, min_samples_leaf=4, min_samples_split=10, n_estimators=100 \n",
            "[CV]  bootstrap=True, max_depth=110, min_samples_leaf=4, min_samples_split=10, n_estimators=100, total=   0.2s\n",
            "[CV] bootstrap=True, max_depth=110, min_samples_leaf=4, min_samples_split=10, n_estimators=100 \n",
            "[CV]  bootstrap=True, max_depth=110, min_samples_leaf=4, min_samples_split=10, n_estimators=100, total=   0.2s\n",
            "[CV] bootstrap=True, max_depth=110, min_samples_leaf=4, min_samples_split=10, n_estimators=100 \n",
            "[CV]  bootstrap=True, max_depth=110, min_samples_leaf=4, min_samples_split=10, n_estimators=100, total=   0.2s\n",
            "[CV] bootstrap=True, max_depth=110, min_samples_leaf=4, min_samples_split=10, n_estimators=200 \n",
            "[CV]  bootstrap=True, max_depth=110, min_samples_leaf=4, min_samples_split=10, n_estimators=200, total=   0.4s\n",
            "[CV] bootstrap=True, max_depth=110, min_samples_leaf=4, min_samples_split=10, n_estimators=200 \n",
            "[CV]  bootstrap=True, max_depth=110, min_samples_leaf=4, min_samples_split=10, n_estimators=200, total=   0.3s\n",
            "[CV] bootstrap=True, max_depth=110, min_samples_leaf=4, min_samples_split=10, n_estimators=200 \n",
            "[CV]  bootstrap=True, max_depth=110, min_samples_leaf=4, min_samples_split=10, n_estimators=200, total=   0.3s\n",
            "[CV] bootstrap=True, max_depth=110, min_samples_leaf=4, min_samples_split=10, n_estimators=300 \n",
            "[CV]  bootstrap=True, max_depth=110, min_samples_leaf=4, min_samples_split=10, n_estimators=300, total=   0.5s\n",
            "[CV] bootstrap=True, max_depth=110, min_samples_leaf=4, min_samples_split=10, n_estimators=300 \n",
            "[CV]  bootstrap=True, max_depth=110, min_samples_leaf=4, min_samples_split=10, n_estimators=300, total=   0.5s\n",
            "[CV] bootstrap=True, max_depth=110, min_samples_leaf=4, min_samples_split=10, n_estimators=300 \n",
            "[CV]  bootstrap=True, max_depth=110, min_samples_leaf=4, min_samples_split=10, n_estimators=300, total=   0.5s\n",
            "[CV] bootstrap=True, max_depth=110, min_samples_leaf=4, min_samples_split=10, n_estimators=1000 \n",
            "[CV]  bootstrap=True, max_depth=110, min_samples_leaf=4, min_samples_split=10, n_estimators=1000, total=   1.6s\n",
            "[CV] bootstrap=True, max_depth=110, min_samples_leaf=4, min_samples_split=10, n_estimators=1000 \n",
            "[CV]  bootstrap=True, max_depth=110, min_samples_leaf=4, min_samples_split=10, n_estimators=1000, total=   1.7s\n",
            "[CV] bootstrap=True, max_depth=110, min_samples_leaf=4, min_samples_split=10, n_estimators=1000 \n",
            "[CV]  bootstrap=True, max_depth=110, min_samples_leaf=4, min_samples_split=10, n_estimators=1000, total=   1.6s\n",
            "[CV] bootstrap=True, max_depth=110, min_samples_leaf=4, min_samples_split=12, n_estimators=100 \n",
            "[CV]  bootstrap=True, max_depth=110, min_samples_leaf=4, min_samples_split=12, n_estimators=100, total=   0.2s\n",
            "[CV] bootstrap=True, max_depth=110, min_samples_leaf=4, min_samples_split=12, n_estimators=100 \n",
            "[CV]  bootstrap=True, max_depth=110, min_samples_leaf=4, min_samples_split=12, n_estimators=100, total=   0.2s\n",
            "[CV] bootstrap=True, max_depth=110, min_samples_leaf=4, min_samples_split=12, n_estimators=100 \n",
            "[CV]  bootstrap=True, max_depth=110, min_samples_leaf=4, min_samples_split=12, n_estimators=100, total=   0.2s\n",
            "[CV] bootstrap=True, max_depth=110, min_samples_leaf=4, min_samples_split=12, n_estimators=200 \n",
            "[CV]  bootstrap=True, max_depth=110, min_samples_leaf=4, min_samples_split=12, n_estimators=200, total=   0.3s\n",
            "[CV] bootstrap=True, max_depth=110, min_samples_leaf=4, min_samples_split=12, n_estimators=200 \n",
            "[CV]  bootstrap=True, max_depth=110, min_samples_leaf=4, min_samples_split=12, n_estimators=200, total=   0.3s\n",
            "[CV] bootstrap=True, max_depth=110, min_samples_leaf=4, min_samples_split=12, n_estimators=200 \n",
            "[CV]  bootstrap=True, max_depth=110, min_samples_leaf=4, min_samples_split=12, n_estimators=200, total=   0.3s\n",
            "[CV] bootstrap=True, max_depth=110, min_samples_leaf=4, min_samples_split=12, n_estimators=300 \n",
            "[CV]  bootstrap=True, max_depth=110, min_samples_leaf=4, min_samples_split=12, n_estimators=300, total=   0.5s\n",
            "[CV] bootstrap=True, max_depth=110, min_samples_leaf=4, min_samples_split=12, n_estimators=300 \n",
            "[CV]  bootstrap=True, max_depth=110, min_samples_leaf=4, min_samples_split=12, n_estimators=300, total=   0.5s\n",
            "[CV] bootstrap=True, max_depth=110, min_samples_leaf=4, min_samples_split=12, n_estimators=300 \n",
            "[CV]  bootstrap=True, max_depth=110, min_samples_leaf=4, min_samples_split=12, n_estimators=300, total=   0.5s\n",
            "[CV] bootstrap=True, max_depth=110, min_samples_leaf=4, min_samples_split=12, n_estimators=1000 \n",
            "[CV]  bootstrap=True, max_depth=110, min_samples_leaf=4, min_samples_split=12, n_estimators=1000, total=   1.6s\n",
            "[CV] bootstrap=True, max_depth=110, min_samples_leaf=4, min_samples_split=12, n_estimators=1000 \n",
            "[CV]  bootstrap=True, max_depth=110, min_samples_leaf=4, min_samples_split=12, n_estimators=1000, total=   1.6s\n",
            "[CV] bootstrap=True, max_depth=110, min_samples_leaf=4, min_samples_split=12, n_estimators=1000 \n",
            "[CV]  bootstrap=True, max_depth=110, min_samples_leaf=4, min_samples_split=12, n_estimators=1000, total=   1.6s\n",
            "[CV] bootstrap=True, max_depth=110, min_samples_leaf=5, min_samples_split=8, n_estimators=100 \n",
            "[CV]  bootstrap=True, max_depth=110, min_samples_leaf=5, min_samples_split=8, n_estimators=100, total=   0.2s\n",
            "[CV] bootstrap=True, max_depth=110, min_samples_leaf=5, min_samples_split=8, n_estimators=100 \n",
            "[CV]  bootstrap=True, max_depth=110, min_samples_leaf=5, min_samples_split=8, n_estimators=100, total=   0.2s\n",
            "[CV] bootstrap=True, max_depth=110, min_samples_leaf=5, min_samples_split=8, n_estimators=100 \n",
            "[CV]  bootstrap=True, max_depth=110, min_samples_leaf=5, min_samples_split=8, n_estimators=100, total=   0.2s\n",
            "[CV] bootstrap=True, max_depth=110, min_samples_leaf=5, min_samples_split=8, n_estimators=200 \n",
            "[CV]  bootstrap=True, max_depth=110, min_samples_leaf=5, min_samples_split=8, n_estimators=200, total=   0.3s\n",
            "[CV] bootstrap=True, max_depth=110, min_samples_leaf=5, min_samples_split=8, n_estimators=200 \n",
            "[CV]  bootstrap=True, max_depth=110, min_samples_leaf=5, min_samples_split=8, n_estimators=200, total=   0.3s\n",
            "[CV] bootstrap=True, max_depth=110, min_samples_leaf=5, min_samples_split=8, n_estimators=200 \n",
            "[CV]  bootstrap=True, max_depth=110, min_samples_leaf=5, min_samples_split=8, n_estimators=200, total=   0.3s\n",
            "[CV] bootstrap=True, max_depth=110, min_samples_leaf=5, min_samples_split=8, n_estimators=300 \n",
            "[CV]  bootstrap=True, max_depth=110, min_samples_leaf=5, min_samples_split=8, n_estimators=300, total=   0.5s\n",
            "[CV] bootstrap=True, max_depth=110, min_samples_leaf=5, min_samples_split=8, n_estimators=300 \n",
            "[CV]  bootstrap=True, max_depth=110, min_samples_leaf=5, min_samples_split=8, n_estimators=300, total=   0.5s\n",
            "[CV] bootstrap=True, max_depth=110, min_samples_leaf=5, min_samples_split=8, n_estimators=300 \n",
            "[CV]  bootstrap=True, max_depth=110, min_samples_leaf=5, min_samples_split=8, n_estimators=300, total=   0.5s\n",
            "[CV] bootstrap=True, max_depth=110, min_samples_leaf=5, min_samples_split=8, n_estimators=1000 \n",
            "[CV]  bootstrap=True, max_depth=110, min_samples_leaf=5, min_samples_split=8, n_estimators=1000, total=   1.6s\n",
            "[CV] bootstrap=True, max_depth=110, min_samples_leaf=5, min_samples_split=8, n_estimators=1000 \n",
            "[CV]  bootstrap=True, max_depth=110, min_samples_leaf=5, min_samples_split=8, n_estimators=1000, total=   1.6s\n",
            "[CV] bootstrap=True, max_depth=110, min_samples_leaf=5, min_samples_split=8, n_estimators=1000 \n",
            "[CV]  bootstrap=True, max_depth=110, min_samples_leaf=5, min_samples_split=8, n_estimators=1000, total=   1.6s\n",
            "[CV] bootstrap=True, max_depth=110, min_samples_leaf=5, min_samples_split=10, n_estimators=100 \n",
            "[CV]  bootstrap=True, max_depth=110, min_samples_leaf=5, min_samples_split=10, n_estimators=100, total=   0.2s\n",
            "[CV] bootstrap=True, max_depth=110, min_samples_leaf=5, min_samples_split=10, n_estimators=100 \n",
            "[CV]  bootstrap=True, max_depth=110, min_samples_leaf=5, min_samples_split=10, n_estimators=100, total=   0.2s\n",
            "[CV] bootstrap=True, max_depth=110, min_samples_leaf=5, min_samples_split=10, n_estimators=100 \n",
            "[CV]  bootstrap=True, max_depth=110, min_samples_leaf=5, min_samples_split=10, n_estimators=100, total=   0.2s\n",
            "[CV] bootstrap=True, max_depth=110, min_samples_leaf=5, min_samples_split=10, n_estimators=200 \n",
            "[CV]  bootstrap=True, max_depth=110, min_samples_leaf=5, min_samples_split=10, n_estimators=200, total=   0.3s\n",
            "[CV] bootstrap=True, max_depth=110, min_samples_leaf=5, min_samples_split=10, n_estimators=200 \n",
            "[CV]  bootstrap=True, max_depth=110, min_samples_leaf=5, min_samples_split=10, n_estimators=200, total=   0.3s\n",
            "[CV] bootstrap=True, max_depth=110, min_samples_leaf=5, min_samples_split=10, n_estimators=200 \n",
            "[CV]  bootstrap=True, max_depth=110, min_samples_leaf=5, min_samples_split=10, n_estimators=200, total=   0.3s\n",
            "[CV] bootstrap=True, max_depth=110, min_samples_leaf=5, min_samples_split=10, n_estimators=300 \n",
            "[CV]  bootstrap=True, max_depth=110, min_samples_leaf=5, min_samples_split=10, n_estimators=300, total=   0.5s\n",
            "[CV] bootstrap=True, max_depth=110, min_samples_leaf=5, min_samples_split=10, n_estimators=300 \n",
            "[CV]  bootstrap=True, max_depth=110, min_samples_leaf=5, min_samples_split=10, n_estimators=300, total=   0.5s\n",
            "[CV] bootstrap=True, max_depth=110, min_samples_leaf=5, min_samples_split=10, n_estimators=300 \n",
            "[CV]  bootstrap=True, max_depth=110, min_samples_leaf=5, min_samples_split=10, n_estimators=300, total=   0.5s\n",
            "[CV] bootstrap=True, max_depth=110, min_samples_leaf=5, min_samples_split=10, n_estimators=1000 \n",
            "[CV]  bootstrap=True, max_depth=110, min_samples_leaf=5, min_samples_split=10, n_estimators=1000, total=   1.6s\n",
            "[CV] bootstrap=True, max_depth=110, min_samples_leaf=5, min_samples_split=10, n_estimators=1000 \n",
            "[CV]  bootstrap=True, max_depth=110, min_samples_leaf=5, min_samples_split=10, n_estimators=1000, total=   1.6s\n",
            "[CV] bootstrap=True, max_depth=110, min_samples_leaf=5, min_samples_split=10, n_estimators=1000 \n",
            "[CV]  bootstrap=True, max_depth=110, min_samples_leaf=5, min_samples_split=10, n_estimators=1000, total=   1.6s\n",
            "[CV] bootstrap=True, max_depth=110, min_samples_leaf=5, min_samples_split=12, n_estimators=100 \n",
            "[CV]  bootstrap=True, max_depth=110, min_samples_leaf=5, min_samples_split=12, n_estimators=100, total=   0.2s\n",
            "[CV] bootstrap=True, max_depth=110, min_samples_leaf=5, min_samples_split=12, n_estimators=100 \n",
            "[CV]  bootstrap=True, max_depth=110, min_samples_leaf=5, min_samples_split=12, n_estimators=100, total=   0.2s\n",
            "[CV] bootstrap=True, max_depth=110, min_samples_leaf=5, min_samples_split=12, n_estimators=100 \n",
            "[CV]  bootstrap=True, max_depth=110, min_samples_leaf=5, min_samples_split=12, n_estimators=100, total=   0.2s\n",
            "[CV] bootstrap=True, max_depth=110, min_samples_leaf=5, min_samples_split=12, n_estimators=200 \n",
            "[CV]  bootstrap=True, max_depth=110, min_samples_leaf=5, min_samples_split=12, n_estimators=200, total=   0.3s\n",
            "[CV] bootstrap=True, max_depth=110, min_samples_leaf=5, min_samples_split=12, n_estimators=200 \n",
            "[CV]  bootstrap=True, max_depth=110, min_samples_leaf=5, min_samples_split=12, n_estimators=200, total=   0.3s\n",
            "[CV] bootstrap=True, max_depth=110, min_samples_leaf=5, min_samples_split=12, n_estimators=200 \n",
            "[CV]  bootstrap=True, max_depth=110, min_samples_leaf=5, min_samples_split=12, n_estimators=200, total=   0.3s\n",
            "[CV] bootstrap=True, max_depth=110, min_samples_leaf=5, min_samples_split=12, n_estimators=300 \n",
            "[CV]  bootstrap=True, max_depth=110, min_samples_leaf=5, min_samples_split=12, n_estimators=300, total=   0.5s\n",
            "[CV] bootstrap=True, max_depth=110, min_samples_leaf=5, min_samples_split=12, n_estimators=300 \n",
            "[CV]  bootstrap=True, max_depth=110, min_samples_leaf=5, min_samples_split=12, n_estimators=300, total=   0.5s\n",
            "[CV] bootstrap=True, max_depth=110, min_samples_leaf=5, min_samples_split=12, n_estimators=300 \n",
            "[CV]  bootstrap=True, max_depth=110, min_samples_leaf=5, min_samples_split=12, n_estimators=300, total=   0.5s\n",
            "[CV] bootstrap=True, max_depth=110, min_samples_leaf=5, min_samples_split=12, n_estimators=1000 \n",
            "[CV]  bootstrap=True, max_depth=110, min_samples_leaf=5, min_samples_split=12, n_estimators=1000, total=   1.6s\n",
            "[CV] bootstrap=True, max_depth=110, min_samples_leaf=5, min_samples_split=12, n_estimators=1000 \n",
            "[CV]  bootstrap=True, max_depth=110, min_samples_leaf=5, min_samples_split=12, n_estimators=1000, total=   1.6s\n",
            "[CV] bootstrap=True, max_depth=110, min_samples_leaf=5, min_samples_split=12, n_estimators=1000 \n",
            "[CV]  bootstrap=True, max_depth=110, min_samples_leaf=5, min_samples_split=12, n_estimators=1000, total=   1.6s\n"
          ],
          "name": "stdout"
        },
        {
          "output_type": "stream",
          "text": [
            "[Parallel(n_jobs=1)]: Done 432 out of 432 | elapsed:  4.8min finished\n"
          ],
          "name": "stderr"
        },
        {
          "output_type": "execute_result",
          "data": {
            "text/plain": [
              "{'bootstrap': True,\n",
              " 'max_depth': 80,\n",
              " 'min_samples_leaf': 4,\n",
              " 'min_samples_split': 8,\n",
              " 'n_estimators': 100}"
            ]
          },
          "metadata": {
            "tags": []
          },
          "execution_count": 0
        }
      ]
    },
    {
      "cell_type": "code",
      "metadata": {
        "colab": {
          "base_uri": "https://localhost:8080/"
        },
        "id": "GAPD0uJY6d1X",
        "outputId": "7d607af9-c268-4a0d-a874-d62e959ad8a0"
      },
      "source": [
        "#best_grid = grid_search.best_estimator_\n",
        "#grid_accuracy = evaluate(best_grid, X_morgan_test, y_morgan_test)"
      ],
      "execution_count": null,
      "outputs": [
        {
          "output_type": "stream",
          "text": [
            "Model Performance\n",
            "Average Error: 0.2183 degrees.\n",
            "Accuracy = nan%.\n"
          ],
          "name": "stdout"
        },
        {
          "output_type": "stream",
          "text": [
            "/usr/local/lib/python3.7/dist-packages/ipykernel_launcher.py:4: RuntimeWarning: invalid value encountered in true_divide\n",
            "  after removing the cwd from sys.path.\n"
          ],
          "name": "stderr"
        }
      ]
    },
    {
      "cell_type": "code",
      "metadata": {
        "id": "-n__VkvFGR9H"
      },
      "source": [
        "# View confusion matrix for test data and predictions\n",
        "#confusion_matrix(y_test, y_pred_test)"
      ],
      "execution_count": null,
      "outputs": []
    },
    {
      "cell_type": "code",
      "metadata": {
        "id": "ECG8ZyQMFe0r"
      },
      "source": [
        "#from sklearn.metrics import confusion_matrix\n"
      ],
      "execution_count": null,
      "outputs": []
    },
    {
      "cell_type": "code",
      "metadata": {
        "id": "p_c3Yu31nSi_"
      },
      "source": [
        ""
      ],
      "execution_count": null,
      "outputs": []
    },
    {
      "cell_type": "code",
      "metadata": {
        "id": "fPvWT_GNKU05"
      },
      "source": [
        "#base_model = RandomForestClassifier(n_estimators=100, random_state=42, min_samples_split = 2, min_samples_leaf = 1)\n",
        "#bm = base_model.fit(X_morgan_train, y_morgan_train)\n",
        "#y_pred_bm = bm.predict(X_morgan_test)\n",
        "#accuracy_score(y_morgan_test, y_pred)"
      ],
      "execution_count": null,
      "outputs": []
    }
  ]
}